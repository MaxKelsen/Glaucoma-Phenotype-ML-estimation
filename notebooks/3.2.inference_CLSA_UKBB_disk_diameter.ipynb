{
 "cells": [
  {
   "cell_type": "code",
   "execution_count": 1,
   "metadata": {},
   "outputs": [],
   "source": [
    "%matplotlib inline\n",
    "%load_ext autoreload\n",
    "%autoreload 2"
   ]
  },
  {
   "cell_type": "code",
   "execution_count": 6,
   "metadata": {},
   "outputs": [],
   "source": [
    "import pickle as pkl\n",
    "import os\n",
    "from pathlib import Path\n",
    "from multiprocessing import Pool, cpu_count\n",
    "import numpy as np\n",
    "import pandas as pd\n",
    "import zipfile\n",
    "#import imageio\n",
    "import matplotlib.pyplot as plt\n",
    "import seaborn as sns\n",
    "from fastai.vision import *\n",
    "from PIL import Image\n",
    "from IPython.display import display\n",
    "import zipfile\n",
    "from glaucoma.helpers.glaucoma_helpers import *\n",
    "from fastai.distributed import *\n",
    "from PIL import ImageFile\n",
    "ImageFile.LOAD_TRUNCATED_IMAGES = True"
   ]
  },
  {
   "cell_type": "code",
   "execution_count": 7,
   "metadata": {},
   "outputs": [],
   "source": [
    "##### PLEASE SET AS REQUIRED########\n",
    "WORKING_DIR = Path(os.getcwd())\n",
    "DATA_DIR = WORKING_DIR / 'data'\n",
    "META_DIR = DATA_DIR / 'metadata'\n",
    "TRAIN_DIR = DATA_DIR / 'train'\n",
    "UKBB_DIR = DATA_DIR 'retinal_images/UKBB'\n",
    "CROP_DIR = DATA_DIR /'retinal_images/cropped_UKBB')\n",
    "C_CLSA_DIR = DATA_DIR / 'retinal_images/cropped_CLSA')\n",
    "GRADE_DIR = DATA_DIR / \"gradable\"\n",
    "CLSA_DIR =DATA_DIR / 'retinal_images/CLSA')"
   ]
  },
  {
   "cell_type": "code",
   "execution_count": 49,
   "metadata": {},
   "outputs": [],
   "source": [
    "def cal_radius(p1, p2):\n",
    "    if isinstance(p1,str):\n",
    "        p1 = tuple(map(int,p1.split(\",\")))\n",
    "    if isinstance(p2,str):\n",
    "        p2 = tuple(map(int,p2.split(\",\")))\n",
    "    r2 = np.power(p2[0]- p1[0],2) + np.power(p2[1] - p1[1],2)\n",
    "    return np.sqrt(r2)"
   ]
  },
  {
   "cell_type": "markdown",
   "metadata": {},
   "source": [
    "### Unzipping files"
   ]
  },
  {
   "cell_type": "code",
   "execution_count": 10,
   "metadata": {},
   "outputs": [],
   "source": [
    "zipped_files = parse_files(CLSA_DIR)\n",
    "f_names = [os.path.basename(zf)[0:-4] for zf in zipped_files]"
   ]
  },
  {
   "cell_type": "code",
   "execution_count": 11,
   "metadata": {},
   "outputs": [],
   "source": [
    "baseline = CLSA_DIR / f_names[0]/ '190225'\n",
    "followup = CLSA_DIR / f_names[1]/'190225'"
   ]
  },
  {
   "cell_type": "code",
   "execution_count": 12,
   "metadata": {},
   "outputs": [],
   "source": [
    "baseline_right = parse_files(baseline, 'right')\n",
    "baseline_left = parse_files(baseline, 'left')\n",
    "followup_right = parse_files(followup, 'right')\n",
    "followup_left = parse_files(followup, 'left')"
   ]
  },
  {
   "cell_type": "markdown",
   "metadata": {},
   "source": [
    "## CLSA Disk Diamater Inference"
   ]
  },
  {
   "cell_type": "code",
   "execution_count": 162,
   "metadata": {},
   "outputs": [],
   "source": [
    "v2_graded = pkl.load(open(WORKING_DIR / 'graded_diameter_df.pkl','rb'))"
   ]
  },
  {
   "cell_type": "code",
   "execution_count": 14,
   "metadata": {},
   "outputs": [],
   "source": [
    "src = ImageList.from_df(v2_graded, path = DATA_DIR / \"diameter\").split_by_rand_pct(seed=42).label_from_df(label_cls=FloatList)\n",
    "tfms = get_transforms(max_lighting = 0.1,max_zoom = 1,max_warp = 0) # or tfms=None if none are needed\n",
    "size= (800,1040) # size=(224,224) or (400,224)\n",
    "data = src.transform(tfms=tfms, size=size, resize_method=ResizeMethod.SQUISH).databunch(num_workers=num_cpu).normalize(imagenet_stats)"
   ]
  },
  {
   "cell_type": "code",
   "execution_count": 15,
   "metadata": {},
   "outputs": [],
   "source": [
    "learn_dd = cnn_learner(data,models.resnet34, pretrained = True)"
   ]
  },
  {
   "cell_type": "code",
   "execution_count": 16,
   "metadata": {},
   "outputs": [],
   "source": [
    "model_name ='res34_2point_radius_unfreeze_only_heat_4'"
   ]
  },
  {
   "cell_type": "code",
   "execution_count": null,
   "metadata": {},
   "outputs": [],
   "source": [
    "learn_dd.load(model_name)"
   ]
  },
  {
   "cell_type": "code",
   "execution_count": 33,
   "metadata": {},
   "outputs": [],
   "source": [
    "learn_dd.data.batch_size = 32"
   ]
  },
  {
   "cell_type": "code",
   "execution_count": 36,
   "metadata": {},
   "outputs": [],
   "source": [
    "learn_dd.model = torch.nn.DataParallel(learn_dd.model)"
   ]
  },
  {
   "cell_type": "code",
   "execution_count": 37,
   "metadata": {},
   "outputs": [],
   "source": [
    "#load actual full UKBB data\n",
    "crop_paths = [C_CLSA_DIR / 'baseline_left',\n",
    "              C_CLSA_DIR / 'baseline_right',\n",
    "              C_CLSA_DIR / 'followup_left',\n",
    "              C_CLSA_DIR / 'followup_right'\n",
    "             ]"
   ]
  },
  {
   "cell_type": "code",
   "execution_count": 38,
   "metadata": {},
   "outputs": [],
   "source": [
    "crop_names = [os.path.basename(pth) for pth in crop_paths]"
   ]
  },
  {
   "cell_type": "code",
   "execution_count": 39,
   "metadata": {},
   "outputs": [],
   "source": [
    "test_sets = [ImageList.from_folder(path) for path in crop_paths]"
   ]
  },
  {
   "cell_type": "code",
   "execution_count": 40,
   "metadata": {},
   "outputs": [],
   "source": [
    "import warnings\n",
    "warnings.filterwarnings(\"ignore\", category=UserWarning, module=\"torch.nn.functional\")"
   ]
  },
  {
   "cell_type": "code",
   "execution_count": 149,
   "metadata": {},
   "outputs": [
    {
     "data": {
      "text/html": [],
      "text/plain": [
       "<IPython.core.display.HTML object>"
      ]
     },
     "metadata": {},
     "output_type": "display_data"
    }
   ],
   "source": [
    "preds = learn_dd.get_preds()"
   ]
  },
  {
   "cell_type": "code",
   "execution_count": 168,
   "metadata": {},
   "outputs": [],
   "source": [
    "preds_r = torch.tensor(standard_scaler.inverse_transform(preds[0]))"
   ]
  },
  {
   "cell_type": "code",
   "execution_count": 43,
   "metadata": {},
   "outputs": [
    {
     "data": {
      "text/html": [],
      "text/plain": [
       "<IPython.core.display.HTML object>"
      ]
     },
     "metadata": {},
     "output_type": "display_data"
    },
    {
     "data": {
      "text/html": [],
      "text/plain": [
       "<IPython.core.display.HTML object>"
      ]
     },
     "metadata": {},
     "output_type": "display_data"
    },
    {
     "data": {
      "text/html": [],
      "text/plain": [
       "<IPython.core.display.HTML object>"
      ]
     },
     "metadata": {},
     "output_type": "display_data"
    },
    {
     "data": {
      "text/html": [],
      "text/plain": [
       "<IPython.core.display.HTML object>"
      ]
     },
     "metadata": {},
     "output_type": "display_data"
    }
   ],
   "source": [
    "cdd_preds = {}\n",
    "for i,test in enumerate(test_sets):\n",
    "    learn_dd.data.add_test(test)\n",
    "    pred = learn_dd.get_preds(DatasetType.Test)\n",
    "    cdd_preds[os.path.basename(crop_paths[i])] = pred"
   ]
  },
  {
   "cell_type": "code",
   "execution_count": null,
   "metadata": {},
   "outputs": [],
   "source": [
    "save_path = WORKING_DIR /\"CLSA_dd_predictions_diameter_only_v1.pkl\"\n",
    "pkl.dump(cdd_preds,open(save_path,'wb'))\n",
    "#vc_preds = pkl.load(open(save_path,'rb'))"
   ]
  },
  {
   "cell_type": "markdown",
   "metadata": {},
   "source": [
    "## Data postprocess into df"
   ]
  },
  {
   "cell_type": "code",
   "execution_count": 160,
   "metadata": {},
   "outputs": [],
   "source": [
    "from sklearn.preprocessing import MinMaxScaler\n",
    "from sklearn.preprocessing import StandardScaler"
   ]
  },
  {
   "cell_type": "code",
   "execution_count": 161,
   "metadata": {},
   "outputs": [],
   "source": [
    "standard_scaler = StandardScaler()"
   ]
  },
  {
   "cell_type": "code",
   "execution_count": 163,
   "metadata": {},
   "outputs": [],
   "source": [
    "v2_graded['radius'] = standard_scaler.fit_transform(v2_graded[['radius']])"
   ]
  },
  {
   "cell_type": "code",
   "execution_count": 164,
   "metadata": {},
   "outputs": [],
   "source": [
    "preds_r = torch.tensor(standard_scaler.inverse_transform(preds[0]))\n"
   ]
  },
  {
   "cell_type": "code",
   "execution_count": 53,
   "metadata": {},
   "outputs": [],
   "source": [
    "crop_names = [os.path.basename(pth) for pth in crop_paths]\n",
    "test_sets = [ImageList.from_folder(path) for path in crop_paths]\n",
    "combined_test_set = {}\n",
    "for i,ts in enumerate(test_sets):\n",
    "    ts_list = list(ts.items)\n",
    "    ts_list = [os.path.basename(x) for x in ts_list]\n",
    "    combined_test_set[crop_names[i]] = ts_list\n",
    "    "
   ]
  },
  {
   "cell_type": "code",
   "execution_count": 74,
   "metadata": {},
   "outputs": [],
   "source": [
    "def build_df_diam_result(file_names, preds):\n",
    "    file_names = np.asarray(file_names)\n",
    "    file_names = file_names.reshape(len(file_names),1)\n",
    "    #rescaled_preds = rescale_points(preds)\n",
    "    # inverse the transformation\n",
    "    preds = torch.tensor(standard_scaler.inverse_transform(preds))\n",
    "    pred_arr = preds.numpy()\n",
    "    full_arr = np.concatenate((file_names,pred_arr),axis=1)\n",
    "    df = pd.DataFrame(full_arr)\n",
    "    df.set_index(0,inplace = True)\n",
    "    df = df.rename(columns = {0:'file',1:'radius'})\n",
    "    df.index.rename(\"file_name\",inplace =True)\n",
    "\n",
    "    return df"
   ]
  },
  {
   "cell_type": "code",
   "execution_count": 75,
   "metadata": {},
   "outputs": [
    {
     "name": "stdout",
     "output_type": "stream",
     "text": [
      "baseline_left\n",
      "baseline_right\n",
      "followup_left\n",
      "followup_right\n"
     ]
    }
   ],
   "source": [
    "keys = list(combined_test_set.keys())\n",
    "df_dict = {}\n",
    "for key in keys:\n",
    "    print(key)\n",
    "    df = build_df_diam_result(combined_test_set[key],cdd_preds[key][0])\n",
    "    df_dict[key] = df"
   ]
  },
  {
   "cell_type": "code",
   "execution_count": 76,
   "metadata": {},
   "outputs": [],
   "source": [
    "df_full = pd.concat([i for i in df_dict.values()])"
   ]
  },
  {
   "cell_type": "code",
   "execution_count": 94,
   "metadata": {},
   "outputs": [],
   "source": [
    "df_full_baseline = pd.concat([df_dict['baseline_left'],df_dict['baseline_right']])\n",
    "df_full_followup = pd.concat([df_dict['followup_left'],df_dict['followup_right']])"
   ]
  },
  {
   "cell_type": "code",
   "execution_count": 95,
   "metadata": {},
   "outputs": [],
   "source": [
    "df_full_baseline['follow_up'] = 0"
   ]
  },
  {
   "cell_type": "code",
   "execution_count": 96,
   "metadata": {},
   "outputs": [],
   "source": [
    "df_full_followup['follow_up'] = 1"
   ]
  },
  {
   "cell_type": "code",
   "execution_count": 99,
   "metadata": {},
   "outputs": [],
   "source": [
    "df_full = pd.concat([df_full_baseline.reset_index(), df_full_followup.reset_index()])"
   ]
  },
  {
   "cell_type": "code",
   "execution_count": 104,
   "metadata": {},
   "outputs": [],
   "source": [
    "CLSA_preds = df_full"
   ]
  },
  {
   "cell_type": "markdown",
   "metadata": {},
   "source": [
    "## Comparing performance to human rater"
   ]
  },
  {
   "cell_type": "code",
   "execution_count": 184,
   "metadata": {},
   "outputs": [],
   "source": [
    "CLSA_clin = pd.read_csv('/home/jovyan/glaucoma/set_xaa_alexhewitt.V2.VCDR',sep = '\\t',header = None)"
   ]
  },
  {
   "cell_type": "code",
   "execution_count": 48,
   "metadata": {},
   "outputs": [
    {
     "data": {
      "text/html": [
       "<div>\n",
       "<style scoped>\n",
       "    .dataframe tbody tr th:only-of-type {\n",
       "        vertical-align: middle;\n",
       "    }\n",
       "\n",
       "    .dataframe tbody tr th {\n",
       "        vertical-align: top;\n",
       "    }\n",
       "\n",
       "    .dataframe thead th {\n",
       "        text-align: right;\n",
       "    }\n",
       "</style>\n",
       "<table border=\"1\" class=\"dataframe\">\n",
       "  <thead>\n",
       "    <tr style=\"text-align: right;\">\n",
       "      <th></th>\n",
       "      <th>0</th>\n",
       "      <th>1</th>\n",
       "      <th>2</th>\n",
       "      <th>3</th>\n",
       "    </tr>\n",
       "  </thead>\n",
       "  <tbody>\n",
       "    <tr>\n",
       "      <td>0</td>\n",
       "      <td>190225_QIMR_SMacGregor_1350403_left.jpg</td>\n",
       "      <td>304,189:305,281</td>\n",
       "      <td>#</td>\n",
       "      <td>#</td>\n",
       "    </tr>\n",
       "    <tr>\n",
       "      <td>1</td>\n",
       "      <td>190225_QIMR_SMacGregor_1254895_left.jpg</td>\n",
       "      <td>413,236:414,332</td>\n",
       "      <td>#</td>\n",
       "      <td>#</td>\n",
       "    </tr>\n",
       "    <tr>\n",
       "      <td>2</td>\n",
       "      <td>190225_QIMR_SMacGregor_1100420_left.jpg</td>\n",
       "      <td>270,247:269,331</td>\n",
       "      <td>#</td>\n",
       "      <td>#</td>\n",
       "    </tr>\n",
       "    <tr>\n",
       "      <td>3</td>\n",
       "      <td>190225_QIMR_SMacGregor_1319579_left.jpg</td>\n",
       "      <td>301,246:306,340</td>\n",
       "      <td>#</td>\n",
       "      <td>#</td>\n",
       "    </tr>\n",
       "    <tr>\n",
       "      <td>4</td>\n",
       "      <td>190225_QIMR_SMacGregor_1266754_left.jpg</td>\n",
       "      <td>-1,-1:-1,-1</td>\n",
       "      <td>X</td>\n",
       "      <td>#</td>\n",
       "    </tr>\n",
       "    <tr>\n",
       "      <td>...</td>\n",
       "      <td>...</td>\n",
       "      <td>...</td>\n",
       "      <td>...</td>\n",
       "      <td>...</td>\n",
       "    </tr>\n",
       "    <tr>\n",
       "      <td>995</td>\n",
       "      <td>190225_QIMR_SMacGregor_1240822_left.jpg</td>\n",
       "      <td>250,279:253,346</td>\n",
       "      <td>#</td>\n",
       "      <td>#</td>\n",
       "    </tr>\n",
       "    <tr>\n",
       "      <td>996</td>\n",
       "      <td>190225_QIMR_SMacGregor_1247572_left.jpg</td>\n",
       "      <td>317,227:317,296</td>\n",
       "      <td>#</td>\n",
       "      <td>#</td>\n",
       "    </tr>\n",
       "    <tr>\n",
       "      <td>997</td>\n",
       "      <td>190225_QIMR_SMacGregor_1277542_left.jpg</td>\n",
       "      <td>312,224:315,297</td>\n",
       "      <td>#</td>\n",
       "      <td>#</td>\n",
       "    </tr>\n",
       "    <tr>\n",
       "      <td>998</td>\n",
       "      <td>190225_QIMR_SMacGregor_1152851_left.jpg</td>\n",
       "      <td>275,264:275,344</td>\n",
       "      <td>#</td>\n",
       "      <td>#</td>\n",
       "    </tr>\n",
       "    <tr>\n",
       "      <td>999</td>\n",
       "      <td>190225_QIMR_SMacGregor_1000258_left.jpg</td>\n",
       "      <td>309,222:310,297</td>\n",
       "      <td>#</td>\n",
       "      <td>#</td>\n",
       "    </tr>\n",
       "  </tbody>\n",
       "</table>\n",
       "<p>1000 rows × 4 columns</p>\n",
       "</div>"
      ],
      "text/plain": [
       "                                           0                1  2  3\n",
       "0    190225_QIMR_SMacGregor_1350403_left.jpg  304,189:305,281  #  #\n",
       "1    190225_QIMR_SMacGregor_1254895_left.jpg  413,236:414,332  #  #\n",
       "2    190225_QIMR_SMacGregor_1100420_left.jpg  270,247:269,331  #  #\n",
       "3    190225_QIMR_SMacGregor_1319579_left.jpg  301,246:306,340  #  #\n",
       "4    190225_QIMR_SMacGregor_1266754_left.jpg      -1,-1:-1,-1  X  #\n",
       "..                                       ...              ... .. ..\n",
       "995  190225_QIMR_SMacGregor_1240822_left.jpg  250,279:253,346  #  #\n",
       "996  190225_QIMR_SMacGregor_1247572_left.jpg  317,227:317,296  #  #\n",
       "997  190225_QIMR_SMacGregor_1277542_left.jpg  312,224:315,297  #  #\n",
       "998  190225_QIMR_SMacGregor_1152851_left.jpg  275,264:275,344  #  #\n",
       "999  190225_QIMR_SMacGregor_1000258_left.jpg  309,222:310,297  #  #\n",
       "\n",
       "[1000 rows x 4 columns]"
      ]
     },
     "execution_count": 48,
     "metadata": {},
     "output_type": "execute_result"
    }
   ],
   "source": [
    "#calculate radius\n",
    "CLSA_clin['radius'] "
   ]
  },
  {
   "cell_type": "code",
   "execution_count": 186,
   "metadata": {},
   "outputs": [],
   "source": [
    "CLSA_clin[[\"coord1\",\"coord2\"]] = CLSA_clin[1].str.split(\":\",expand = True).loc[:,0:1]"
   ]
  },
  {
   "cell_type": "code",
   "execution_count": 188,
   "metadata": {},
   "outputs": [],
   "source": [
    "CLSA_clin['radius'] = CLSA_clin.apply(lambda x:cal_radius(x.coord1,x.coord2),axis =1)"
   ]
  },
  {
   "cell_type": "code",
   "execution_count": 236,
   "metadata": {},
   "outputs": [],
   "source": [
    "graded_CLSA = CLSA_clin[(CLSA_clin['radius'] > 1) & (CLSA_clin['radius'] < 200)]"
   ]
  },
  {
   "cell_type": "code",
   "execution_count": 249,
   "metadata": {},
   "outputs": [],
   "source": [
    "old_model_CLSA =pd.read_csv(WORKING_DIR / 'inference'/'CLSA_disk_full_inference_v1.csv')"
   ]
  },
  {
   "cell_type": "code",
   "execution_count": 252,
   "metadata": {},
   "outputs": [],
   "source": [
    "old_model_CLSA =old_model_CLSA[old_model_CLSA['follow_up'] ==1]"
   ]
  },
  {
   "cell_type": "code",
   "execution_count": 238,
   "metadata": {},
   "outputs": [],
   "source": [
    "# pull out relevant preds:\n",
    "files = graded_CLSA[0]\n",
    "ratings  =graded_CLSA['radius']"
   ]
  },
  {
   "cell_type": "code",
   "execution_count": 267,
   "metadata": {},
   "outputs": [],
   "source": [
    "CLSA_preds.to_csv(\"CLSA_disk_full_inference_v2.csv\")"
   ]
  },
  {
   "cell_type": "code",
   "execution_count": 239,
   "metadata": {},
   "outputs": [],
   "source": [
    "used_preds = CLSA_preds[CLSA_preds['file_name'].isin(files)]\n",
    "used_preds = used_preds[used_preds['follow_up'] == 1]\n",
    "used_preds['radius']=used_preds['radius'].astype(float)"
   ]
  },
  {
   "cell_type": "code",
   "execution_count": null,
   "metadata": {},
   "outputs": [],
   "source": [
    "for i in graded_CLSA[0]:\n",
    "    graded_CLSA.loc[graded_CLSA[0] == i,'predicted_old'] = old_model_CLSA.loc[old_model_CLSA['file_name'] == i,'radius'].astype('float').item()\n",
    "    "
   ]
  },
  {
   "cell_type": "code",
   "execution_count": 273,
   "metadata": {},
   "outputs": [],
   "source": [
    "X = np.array(graded_CLSA['radius'])\n",
    "Y = np.array(graded_CLSA['predicted'])"
   ]
  },
  {
   "cell_type": "code",
   "execution_count": 274,
   "metadata": {},
   "outputs": [
    {
     "data": {
      "text/plain": [
       "<matplotlib.collections.PathCollection at 0x7f6e98469630>"
      ]
     },
     "execution_count": 274,
     "metadata": {},
     "output_type": "execute_result"
    },
    {
     "data": {
      "image/png": "[encoded data removed]",
      "text/plain": [
       "<Figure size 432x288 with 1 Axes>"
      ]
     },
     "metadata": {
      "needs_background": "light"
     },
     "output_type": "display_data"
    }
   ],
   "source": [
    "plt.scatter(Y,X)\n",
    "#plt.ylim([40,110])"
   ]
  },
  {
   "cell_type": "code",
   "execution_count": 276,
   "metadata": {},
   "outputs": [
    {
     "data": {
      "text/plain": [
       "<matplotlib.axes._subplots.AxesSubplot at 0x7f6f826fd828>"
      ]
     },
     "execution_count": 276,
     "metadata": {},
     "output_type": "execute_result"
    },
    {
     "data": {
      "image/png": "[encoded data removed]",
      "text/plain": [
       "<Figure size 432x288 with 1 Axes>"
      ]
     },
     "metadata": {
      "needs_background": "light"
     },
     "output_type": "display_data"
    }
   ],
   "source": [
    "sns.distplot(graded_CLSA['radius'])"
   ]
  },
  {
   "cell_type": "code",
   "execution_count": 277,
   "metadata": {},
   "outputs": [
    {
     "data": {
      "text/plain": [
       "<matplotlib.axes._subplots.AxesSubplot at 0x7f6f827104e0>"
      ]
     },
     "execution_count": 277,
     "metadata": {},
     "output_type": "execute_result"
    },
    {
     "data": {
      "image/png": "[encoded data removed]",
      "text/plain": [
       "<Figure size 432x288 with 1 Axes>"
      ]
     },
     "metadata": {
      "needs_background": "light"
     },
     "output_type": "display_data"
    }
   ],
   "source": [
    "sns.distplot(used_preds['radius'])"
   ]
  },
  {
   "cell_type": "code",
   "execution_count": 278,
   "metadata": {},
   "outputs": [],
   "source": [
    "correlation_matrix = np.corrcoef(X, Y)\n",
    "correlation_xy = correlation_matrix[0,1]\n",
    "r_squared = correlation_xy**2"
   ]
  },
  {
   "cell_type": "code",
   "execution_count": 279,
   "metadata": {},
   "outputs": [
    {
     "data": {
      "text/plain": [
       "0.7855049239507709"
      ]
     },
     "execution_count": 279,
     "metadata": {},
     "output_type": "execute_result"
    }
   ],
   "source": [
    "correlation_xy"
   ]
  },
  {
   "cell_type": "markdown",
   "metadata": {},
   "source": [
    "# UKBB inference"
   ]
  },
  {
   "cell_type": "code",
   "execution_count": 269,
   "metadata": {},
   "outputs": [],
   "source": [
    "#load actual full UKBB data\n",
    "crop_paths = [CROP_DIR /'crop_image_21015_0_0_png',\n",
    "         CROP_DIR /'crop_image_21015_0_1_png',\n",
    "         CROP_DIR /'crop_image_21015_1_0_png',\n",
    "         CROP_DIR /'crop_image_21016_0_0_png',\n",
    "         CROP_DIR /'crop_image_21016_0_1_png',\n",
    "         CROP_DIR /'crop_image_21016_1_0_png'\n",
    "        ]"
   ]
  },
  {
   "cell_type": "code",
   "execution_count": 284,
   "metadata": {},
   "outputs": [],
   "source": [
    "crop_names = [os.path.basename(pth) for pth in crop_paths]"
   ]
  },
  {
   "cell_type": "code",
   "execution_count": 285,
   "metadata": {},
   "outputs": [],
   "source": [
    "test_sets = [ImageList.from_folder(path) for path in crop_paths]"
   ]
  },
  {
   "cell_type": "code",
   "execution_count": 272,
   "metadata": {},
   "outputs": [
    {
     "data": {
      "text/html": [],
      "text/plain": [
       "<IPython.core.display.HTML object>"
      ]
     },
     "metadata": {},
     "output_type": "display_data"
    },
    {
     "data": {
      "text/html": [],
      "text/plain": [
       "<IPython.core.display.HTML object>"
      ]
     },
     "metadata": {},
     "output_type": "display_data"
    },
    {
     "data": {
      "text/html": [],
      "text/plain": [
       "<IPython.core.display.HTML object>"
      ]
     },
     "metadata": {},
     "output_type": "display_data"
    },
    {
     "data": {
      "text/html": [],
      "text/plain": [
       "<IPython.core.display.HTML object>"
      ]
     },
     "metadata": {},
     "output_type": "display_data"
    },
    {
     "data": {
      "text/html": [],
      "text/plain": [
       "<IPython.core.display.HTML object>"
      ]
     },
     "metadata": {},
     "output_type": "display_data"
    },
    {
     "data": {
      "text/html": [],
      "text/plain": [
       "<IPython.core.display.HTML object>"
      ]
     },
     "metadata": {},
     "output_type": "display_data"
    }
   ],
   "source": [
    "uk_preds = {}\n",
    "for i,test in enumerate(test_sets):\n",
    "    learn_dd.data.add_test(test)\n",
    "    pred = learn_dd.get_preds(DatasetType.Test)\n",
    "    uk_preds[os.path.basename(crop_paths[i])] = pred"
   ]
  },
  {
   "cell_type": "code",
   "execution_count": 280,
   "metadata": {},
   "outputs": [],
   "source": [
    "save_path = WORKING_DIR /\"UKBB_dd_predictions_diameter_only_v1.pkl\"\n",
    "pkl.dump(cdd_preds,open(save_path,'wb'))\n",
    "#vc_preds = pkl.load(open(save_path,'rb'))"
   ]
  },
  {
   "cell_type": "markdown",
   "metadata": {},
   "source": [
    "## Processing DF"
   ]
  },
  {
   "cell_type": "code",
   "execution_count": 286,
   "metadata": {},
   "outputs": [],
   "source": [
    "crop_names = [os.path.basename(pth) for pth in crop_paths]\n",
    "test_sets = [ImageList.from_folder(path) for path in crop_paths]\n",
    "combined_test_set = {}\n",
    "for i,ts in enumerate(test_sets):\n",
    "    ts_list = list(ts.items)\n",
    "    ts_list = [os.path.basename(x) for x in ts_list]\n",
    "    combined_test_set[crop_names[i]] = ts_list\n",
    "    "
   ]
  },
  {
   "cell_type": "code",
   "execution_count": 287,
   "metadata": {},
   "outputs": [],
   "source": [
    "def build_df_diam_result(file_names, preds):\n",
    "    file_names = np.asarray(file_names)\n",
    "    file_names = file_names.reshape(len(file_names),1)\n",
    "    #rescaled_preds = rescale_points(preds)\n",
    "    # inverse the transformation\n",
    "    preds = torch.tensor(standard_scaler.inverse_transform(preds))\n",
    "    pred_arr = preds.numpy()\n",
    "    full_arr = np.concatenate((file_names,pred_arr),axis=1)\n",
    "    df = pd.DataFrame(full_arr)\n",
    "    df.set_index(0,inplace = True)\n",
    "    df = df.rename(columns = {0:'file',1:'radius'})\n",
    "    df.index.rename(\"file_name\",inplace =True)\n",
    "\n",
    "    return df"
   ]
  },
  {
   "cell_type": "code",
   "execution_count": 288,
   "metadata": {},
   "outputs": [
    {
     "name": "stdout",
     "output_type": "stream",
     "text": [
      "crop_image_21015_0_0_png\n",
      "crop_image_21015_0_1_png\n",
      "crop_image_21015_1_0_png\n",
      "crop_image_21016_0_0_png\n",
      "crop_image_21016_0_1_png\n",
      "crop_image_21016_1_0_png\n"
     ]
    }
   ],
   "source": [
    "keys = list(combined_test_set.keys())\n",
    "df_dict = {}\n",
    "for key in keys:\n",
    "    print(key)\n",
    "    df = build_df_diam_result(combined_test_set[key],uk_preds[key][0])\n",
    "    df_dict[key] = df"
   ]
  },
  {
   "cell_type": "code",
   "execution_count": 289,
   "metadata": {},
   "outputs": [],
   "source": [
    "df_full = pd.concat([i for i in df_dict.values()])"
   ]
  },
  {
   "cell_type": "code",
   "execution_count": 293,
   "metadata": {},
   "outputs": [],
   "source": [
    "df_full.to_csv(WORKING_DIR / 'UKBB_disk_full_inference_v2.csv')"
   ]
  }
 ],
 "metadata": {
  "kernelspec": {
   "display_name": "Glaucoma",
   "language": "python",
   "name": "glaucoma"
  },
  "language_info": {
   "codemirror_mode": {
    "name": "ipython",
    "version": 3
   },
   "file_extension": ".py",
   "mimetype": "text/x-python",
   "name": "python",
   "nbconvert_exporter": "python",
   "pygments_lexer": "ipython3",
   "version": "3.7.9"
  }
 },
 "nbformat": 4,
 "nbformat_minor": 4
}