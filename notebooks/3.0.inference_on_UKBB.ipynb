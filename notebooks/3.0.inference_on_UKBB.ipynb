{
 "cells": [
  {
   "cell_type": "markdown",
   "metadata": {},
   "source": [
    "## Running inference on UKBB data\n",
    "\n",
    "This file is part of the Glaucoma Phenotype ML Estimation project.\n",
    "\n",
    " Glaucoma Phenotype ML Estimation is free software: you can redistribute it and/or modify\n",
    "it under the terms of the GNU General Public License as published by\n",
    "the Free Software Foundation, either version 3 of the License, or\n",
    "(at your option) any later version.\n",
    "\n",
    "\n",
    "The Glaucoma Phenotype ML Estimation project is distributed in the hope that it will be useful,\n",
    "but WITHOUT ANY WARRANTY; without even the implied warranty of\n",
    "MERCHANTABILITY or FITNESS FOR A PARTICULAR PURPOSE.  See the\n",
    "GNU General Public License for more details.\n",
    "\n",
    "You should have received a copy of the GNU General Public License\n",
    "along with the Glaucoma Phenotype ML Estimation project.  If not, see <http://www.gnu.org/licenses/>.\n"
   ]
  },
  {
   "cell_type": "code",
   "execution_count": 1,
   "metadata": {},
   "outputs": [],
   "source": [
    "%matplotlib inline\n",
    "%load_ext autoreload\n",
    "%autoreload 2"
   ]
  },
  {
   "cell_type": "code",
   "execution_count": 6,
   "metadata": {},
   "outputs": [],
   "source": [
    "import pickle as pkl\n",
    "import os\n",
    "from pathlib import Path\n",
    "from multiprocessing import Pool, cpu_count\n",
    "import numpy as np\n",
    "import pandas as pd\n",
    "import zipfile\n",
    "#import imageio\n",
    "import matplotlib.pyplot as plt\n",
    "import seaborn as sns\n",
    "from fastai.vision import *\n",
    "from PIL import Image\n",
    "from IPython.display import display\n",
    "from glaucoma.helpers.glaucoma_helpers import *\n"
   ]
  },
  {
   "cell_type": "code",
   "execution_count": 5,
   "metadata": {},
   "outputs": [],
   "source": [
    "from fastai.distributed import *"
   ]
  },
  {
   "cell_type": "code",
   "execution_count": 6,
   "metadata": {},
   "outputs": [],
   "source": [
    "from PIL import ImageFile\n",
    "ImageFile.LOAD_TRUNCATED_IMAGES = True"
   ]
  },
  {
   "cell_type": "code",
   "execution_count": 7,
   "metadata": {},
   "outputs": [],
   "source": [
    "##### PLEASE SET AS REQUIRED########\n",
    "WORKING_DIR = Path(os.getcwd())\n",
    "DATA_DIR = WORKING_DIR / 'data'\n",
    "META_DIR = DATA_DIR / 'metadata'\n",
    "TRAIN_DIR = DATA_DIR / 'train'\n",
    "UKBB_DIR = DATA_DIR 'retinal_images/UKBB'\n",
    "CROP_DIR = DATA_DIR /'retinal_images/cropped_UKBB')\n",
    "C_CLSA_DIR = DATA_DIR / 'retinal_images/cropped_CLSA')\n",
    "GRADE_DIR = DATA_DIR / \"gradable\"\n",
    "CLSA_DIR =DATA_DIR / 'retinal_images/CLSA')"
   ]
  },
  {
   "cell_type": "code",
   "execution_count": 8,
   "metadata": {},
   "outputs": [],
   "source": [
    "# make these folders if required\n",
    "#os.mkdir(CROP_DIR / 'crop_image_21015_0_0_png' )\n",
    "#os.mkdir(CROP_DIR / 'crop_image_21015_0_1_png' )\n",
    "#os.mkdir(CROP_DIR / 'crop_image_21015_1_0_png' )\n",
    "#os.mkdir(CROP_DIR / 'crop_image_21016_0_0_png' )\n",
    "#os.mkdir(CROP_DIR / 'crop_image_21016_0_1_png' )\n",
    "#os.mkdir(CROP_DIR / 'crop_image_21016_1_0_png' )"
   ]
  },
  {
   "cell_type": "code",
   "execution_count": 37,
   "metadata": {},
   "outputs": [],
   "source": [
    "ukbb_image_folders_left =[\n",
    " 'raw_image_21015_0_0_png',\n",
    " 'raw_image_21015_0_1_png',\n",
    " 'raw_image_21015_1_0_png',\n",
    "]\n",
    "\n",
    "ukbb_image_folders_right =[\n",
    "'raw_image_21016_1_0_png',\n",
    " 'raw_image_21016_0_0_png',\n",
    " 'raw_image_21016_0_1_png']"
   ]
  },
  {
   "cell_type": "markdown",
   "metadata": {},
   "source": [
    "## Cropping images"
   ]
  },
  {
   "cell_type": "code",
   "execution_count": 148,
   "metadata": {},
   "outputs": [],
   "source": [
    "ukbb_images_left = {dir_name:parse_files(UKBB_DIR / dir_name) for dir_name in ukbb_image_folders_left}\n",
    "ukbb_images_right = {dir_name:parse_files(UKBB_DIR / dir_name) for dir_name in ukbb_image_folders_right}\n",
    "\n",
    "#ukbb_images_left_list = [item for sublist in ukbb_images_left for item in sublist]\n",
    "#ukbb_images_right_list = [item for sublist in ukbb_images_right for item in sublist]"
   ]
  },
  {
   "cell_type": "code",
   "execution_count": 76,
   "metadata": {},
   "outputs": [
    {
     "name": "stdout",
     "output_type": "stream",
     "text": [
      "left :69 right: 69\n"
     ]
    }
   ],
   "source": [
    "print(\"left :\" + str(len(ukbb_images_left_list)) + \" right: \" + str(len(ukbb_images_right_list)))"
   ]
  },
  {
   "cell_type": "code",
   "execution_count": 262,
   "metadata": {},
   "outputs": [],
   "source": [
    "im = Image.open(ukbb_images_left[ukbb_image_folders_left[0]][1])\n",
    "width, height = im.size "
   ]
  },
  {
   "cell_type": "code",
   "execution_count": null,
   "metadata": {},
   "outputs": [],
   "source": [
    "import matplotlib.pyplot as plt\n",
    "import matplotlib.image as mpimg\n",
    "#img=mpimg.imread(ukbb_images_right[0])\n",
    "imgplot = plt.imshow(im)\n",
    "plt.show()"
   ]
  },
  {
   "cell_type": "code",
   "execution_count": 163,
   "metadata": {},
   "outputs": [],
   "source": [
    "left = 200\n",
    "top = 350\n",
    "right = 1040 + left\n",
    "bottom = 800 +top\n",
    "iml = im.crop((left,top,right,bottom))"
   ]
  },
  {
   "cell_type": "code",
   "execution_count": null,
   "metadata": {},
   "outputs": [],
   "source": [
    "plt.imshow(iml)"
   ]
  },
  {
   "cell_type": "code",
   "execution_count": null,
   "metadata": {},
   "outputs": [],
   "source": [
    "left = 200\n",
    "top = 350\n",
    "right = 1040 + left\n",
    "bottom = 800 +top\n",
    "save_path = CROP_DIR / 'crop_image_21015_0_0_png'\n",
    "crop_files(ukbb_images_left[ukbb_image_folders_left[0]],(left,top,right,bottom),save_path)"
   ]
  },
  {
   "cell_type": "code",
   "execution_count": 153,
   "metadata": {},
   "outputs": [],
   "source": [
    "list_files = parse_files(CROP_DIR / 'crop_image_21016_0_0_png')"
   ]
  },
  {
   "cell_type": "markdown",
   "metadata": {},
   "source": [
    "## Running inference"
   ]
  },
  {
   "cell_type": "markdown",
   "metadata": {},
   "source": [
    "### Gradabillity"
   ]
  },
  {
   "cell_type": "code",
   "execution_count": 7,
   "metadata": {},
   "outputs": [],
   "source": [
    "path_img = GRADE_DIR"
   ]
  },
  {
   "cell_type": "code",
   "execution_count": 8,
   "metadata": {},
   "outputs": [],
   "source": [
    "#Load the gradabillity models\n",
    "src = ImageList.from_folder(str(path_img)).split_by_rand_pct(seed=42).label_from_folder()\n",
    "tfms = get_transforms( max_lighting = 0.25) # or tfms=None if none are needed\n",
    "size=(800,1040) # size=(224,224) or (400,224)\n",
    "data = src.transform(tfms=tfms, size=size, resize_method=ResizeMethod.SQUISH).databunch(num_workers=4).normalize(imagenet_stats)\n"
   ]
  },
  {
   "cell_type": "code",
   "execution_count": null,
   "metadata": {},
   "outputs": [],
   "source": [
    "#using smaller image size\n",
    "src = ImageList.from_folder(str(path_img)).split_by_rand_pct(seed=42).label_from_folder()\n",
    "tfms = get_transforms(max_lighting = 0.25) # or tfms=None if none are needed\n",
    "size=(800,1040) # size=(224,224) or (400,224)\n",
    "data = src.transform(tfms=tfms, size=size, resize_method=ResizeMethod.SQUISH).databunch(num_workers=4).normalize(imagenet_stats)"
   ]
  },
  {
   "cell_type": "code",
   "execution_count": null,
   "metadata": {},
   "outputs": [],
   "source": [
    "data.show_batch(3, figsize=(10,10), hide_axis=False)\n"
   ]
  },
  {
   "cell_type": "code",
   "execution_count": 121,
   "metadata": {},
   "outputs": [],
   "source": [
    "learn_grade = cnn_learner(data,models.resnet34, pretrained = True)"
   ]
  },
  {
   "cell_type": "code",
   "execution_count": null,
   "metadata": {},
   "outputs": [],
   "source": [
    "learn_grade.load('gradable_res34_removed_best_heat_2')"
   ]
  },
  {
   "cell_type": "code",
   "execution_count": 61,
   "metadata": {},
   "outputs": [],
   "source": [
    "#load actual full UKBB data\n",
    "crop_paths = [CROP_DIR /'crop_image_21015_0_0_png',\n",
    "         CROP_DIR /'crop_image_21015_0_1_png',\n",
    "         CROP_DIR /'crop_image_21015_1_0_png',\n",
    "         CROP_DIR /'crop_image_21016_0_0_png',\n",
    "         CROP_DIR /'crop_image_21016_0_1_png',\n",
    "         CROP_DIR /'crop_image_21016_1_0_png'\n",
    "        ]"
   ]
  },
  {
   "cell_type": "code",
   "execution_count": 81,
   "metadata": {},
   "outputs": [],
   "source": [
    "crop_names = [os.path.basename(pth) for pth in crop_paths]"
   ]
  },
  {
   "cell_type": "code",
   "execution_count": 62,
   "metadata": {},
   "outputs": [],
   "source": [
    "test_sets = [ImageList.from_folder(path) for path in crop_paths]"
   ]
  },
  {
   "cell_type": "code",
   "execution_count": 66,
   "metadata": {},
   "outputs": [
    {
     "data": {
      "text/html": [],
      "text/plain": [
       "<IPython.core.display.HTML object>"
      ]
     },
     "metadata": {},
     "output_type": "display_data"
    },
    {
     "data": {
      "text/html": [],
      "text/plain": [
       "<IPython.core.display.HTML object>"
      ]
     },
     "metadata": {},
     "output_type": "display_data"
    },
    {
     "data": {
      "text/html": [],
      "text/plain": [
       "<IPython.core.display.HTML object>"
      ]
     },
     "metadata": {},
     "output_type": "display_data"
    },
    {
     "data": {
      "text/html": [],
      "text/plain": [
       "<IPython.core.display.HTML object>"
      ]
     },
     "metadata": {},
     "output_type": "display_data"
    },
    {
     "data": {
      "text/html": [],
      "text/plain": [
       "<IPython.core.display.HTML object>"
      ]
     },
     "metadata": {},
     "output_type": "display_data"
    },
    {
     "data": {
      "text/html": [],
      "text/plain": [
       "<IPython.core.display.HTML object>"
      ]
     },
     "metadata": {},
     "output_type": "display_data"
    }
   ],
   "source": [
    "preds = {}\n",
    "for i,test in enumerate(test_sets):\n",
    "    learn_grade.data.add_test(test)\n",
    "    pred = learn_grade.get_preds(DatasetType.Test)\n",
    "    preds[os.path.basename(crop_paths[i])] = pred"
   ]
  },
  {
   "cell_type": "markdown",
   "metadata": {},
   "source": [
    "### Testing prediction"
   ]
  },
  {
   "cell_type": "code",
   "execution_count": 123,
   "metadata": {},
   "outputs": [
    {
     "data": {
      "text/html": [],
      "text/plain": [
       "<IPython.core.display.HTML object>"
      ]
     },
     "metadata": {},
     "output_type": "display_data"
    }
   ],
   "source": [
    "p,y,losses = learn_grade.get_preds(with_loss=True)"
   ]
  },
  {
   "cell_type": "code",
   "execution_count": 125,
   "metadata": {},
   "outputs": [],
   "source": [
    "interp = ClassificationInterpretation(learn_grade,p,y,losses)"
   ]
  },
  {
   "cell_type": "code",
   "execution_count": 126,
   "metadata": {},
   "outputs": [
    {
     "data": {
      "image/png": "[encoded data removed]",
      "text/plain": [
       "<Figure size 432x288 with 1 Axes>"
      ]
     },
     "metadata": {
      "needs_background": "light"
     },
     "output_type": "display_data"
    }
   ],
   "source": [
    "interp.plot_confusion_matrix()"
   ]
  },
  {
   "cell_type": "code",
   "execution_count": null,
   "metadata": {},
   "outputs": [],
   "source": [
    "interp.plot_top_losses(9,figsize = (12,12))\n"
   ]
  },
  {
   "cell_type": "code",
   "execution_count": 128,
   "metadata": {},
   "outputs": [
    {
     "data": {
      "text/plain": [
       "tensor(0.9438)"
      ]
     },
     "execution_count": 128,
     "metadata": {},
     "output_type": "execute_result"
    }
   ],
   "source": [
    "accuracy(p,y)"
   ]
  },
  {
   "cell_type": "code",
   "execution_count": 85,
   "metadata": {},
   "outputs": [
    {
     "data": {
      "text/plain": [
       "[RandTransform(tfm=TfmCrop (crop_pad), kwargs={}, p=1.0, resolved={'padding_mode': 'reflection', 'row_pct': 0.5, 'col_pct': 0.5}, do_run=True, is_random=True, use_on_y=True)]"
      ]
     },
     "execution_count": 85,
     "metadata": {},
     "output_type": "execute_result"
    }
   ],
   "source": [
    "learn_grade.data.test_ds.tfms"
   ]
  },
  {
   "cell_type": "code",
   "execution_count": 67,
   "metadata": {},
   "outputs": [],
   "source": [
    "save_path = WORKING_DIR /\"UKBB_gradabillity_predictions_v2.pkl\"\n",
    "pkl.dump(preds,open(save_path,'wb'))\n",
    "#preds = pkl.load(open(save_path, 'rb'))"
   ]
  },
  {
   "cell_type": "code",
   "execution_count": 70,
   "metadata": {},
   "outputs": [],
   "source": [
    "grade_preds = pkl.load(open(save_path, 'rb'))"
   ]
  },
  {
   "cell_type": "code",
   "execution_count": 175,
   "metadata": {},
   "outputs": [],
   "source": [
    "from PIL import ImageFile\n",
    "ImageFile.LOAD_TRUNCATED_IMAGES = True"
   ]
  },
  {
   "cell_type": "markdown",
   "metadata": {},
   "source": [
    "### VCDR inference"
   ]
  },
  {
   "cell_type": "code",
   "execution_count": 9,
   "metadata": {},
   "outputs": [],
   "source": [
    "path_img = TRAIN_DIR"
   ]
  },
  {
   "cell_type": "code",
   "execution_count": 10,
   "metadata": {},
   "outputs": [],
   "source": [
    "src = ImageList.from_folder(str(path_img)).split_by_rand_pct(seed=42).label_from_folder()\n",
    "tfms = get_transforms( max_lighting = 0.25) # or tfms=None if none are needed\n",
    "size=(800,1040) # size=(224,224) or (400,224)\n",
    "data = src.transform(tfms=tfms, size=size, resize_method=ResizeMethod.SQUISH).databunch(num_workers=4).normalize(imagenet_stats)\n"
   ]
  },
  {
   "cell_type": "code",
   "execution_count": 74,
   "metadata": {},
   "outputs": [],
   "source": [
    "learn_vcdr = cnn_learner(data,models.resnet34, pretrained = True)"
   ]
  },
  {
   "cell_type": "code",
   "execution_count": null,
   "metadata": {},
   "outputs": [],
   "source": [
    "learn_vcdr.load('g_model_e9_stage_2')"
   ]
  },
  {
   "cell_type": "code",
   "execution_count": 76,
   "metadata": {},
   "outputs": [
    {
     "data": {
      "text/html": [],
      "text/plain": [
       "<IPython.core.display.HTML object>"
      ]
     },
     "metadata": {},
     "output_type": "display_data"
    },
    {
     "data": {
      "text/html": [],
      "text/plain": [
       "<IPython.core.display.HTML object>"
      ]
     },
     "metadata": {},
     "output_type": "display_data"
    },
    {
     "data": {
      "text/html": [],
      "text/plain": [
       "<IPython.core.display.HTML object>"
      ]
     },
     "metadata": {},
     "output_type": "display_data"
    },
    {
     "data": {
      "text/html": [],
      "text/plain": [
       "<IPython.core.display.HTML object>"
      ]
     },
     "metadata": {},
     "output_type": "display_data"
    },
    {
     "data": {
      "text/html": [],
      "text/plain": [
       "<IPython.core.display.HTML object>"
      ]
     },
     "metadata": {},
     "output_type": "display_data"
    },
    {
     "data": {
      "text/html": [],
      "text/plain": [
       "<IPython.core.display.HTML object>"
      ]
     },
     "metadata": {},
     "output_type": "display_data"
    }
   ],
   "source": [
    "vc_preds = {}\n",
    "for i,test in enumerate(test_sets):\n",
    "    learn_vcdr.data.add_test(test)\n",
    "    pred = learn_vcdr.get_preds(DatasetType.Test)\n",
    "    vc_preds[os.path.basename(crop_paths[i])] = pred"
   ]
  },
  {
   "cell_type": "code",
   "execution_count": 77,
   "metadata": {},
   "outputs": [],
   "source": [
    "save_path = WORKING_DIR /\"UKBB_vcdr_predictions_v2.pkl\"\n",
    "pkl.dump(vc_preds,open(save_path,'wb'))\n",
    "#vc_preds = pkl.load(open(save_path,'rb'))"
   ]
  },
  {
   "cell_type": "markdown",
   "metadata": {},
   "source": [
    "## Building DataFrame"
   ]
  },
  {
   "cell_type": "code",
   "execution_count": 248,
   "metadata": {},
   "outputs": [],
   "source": [
    "combined_test_set = {}\n",
    "for i,ts in enumerate(test_sets):\n",
    "    ts_list = list(ts.items)\n",
    "    ts_list = [os.path.basename(x) for x in ts_list]\n",
    "    combined_test_set[crop_names[i]] = ts_list\n",
    "    "
   ]
  },
  {
   "cell_type": "code",
   "execution_count": 241,
   "metadata": {},
   "outputs": [],
   "source": [
    "def build_df_result(file_names, preds, preds2):\n",
    "    \n",
    "    file_names = np.asarray(file_names)\n",
    "    file_names = file_names.reshape(len(file_names),1)\n",
    "    pred_arr = preds.numpy()\n",
    "    preds2_arr = preds2.numpy()\n",
    "    print(file_names.shape)\n",
    "    print(preds.shape)\n",
    "    print(preds2.shape)\n",
    "    full_arr = np.concatenate((file_names,pred_arr,preds2_arr),axis=1)\n",
    "    df = pd.DataFrame(full_arr)\n",
    "    df.set_index(0,inplace = True)\n",
    "    df = df.rename(columns = {0:'file',1:'gradable',2:'ungradable',3:'vcdr_estimate'})\n",
    "    df.index.rename(\"file_name\",inplace =True)\n",
    "    return df\n",
    "    \n",
    "    \n",
    "    "
   ]
  },
  {
   "cell_type": "code",
   "execution_count": null,
   "metadata": {},
   "outputs": [],
   "source": [
    "np.concatenate(((tt,preds[list(preds.keys())[0]][0].numpy())),axis =1)"
   ]
  },
  {
   "cell_type": "code",
   "execution_count": 249,
   "metadata": {},
   "outputs": [
    {
     "name": "stdout",
     "output_type": "stream",
     "text": [
      "crop_image_21015_0_0_png\n",
      "(67708, 1)\n",
      "torch.Size([67708, 2])\n",
      "torch.Size([67708, 1])\n",
      "crop_image_21015_0_1_png\n",
      "(522, 1)\n",
      "torch.Size([522, 2])\n",
      "torch.Size([522, 1])\n",
      "crop_image_21015_1_0_png\n",
      "(19320, 1)\n",
      "torch.Size([19320, 2])\n",
      "torch.Size([19320, 1])\n",
      "crop_image_21016_0_0_png\n",
      "(68138, 1)\n",
      "torch.Size([68138, 2])\n",
      "torch.Size([68138, 1])\n",
      "crop_image_21016_0_1_png\n",
      "(686, 1)\n",
      "torch.Size([686, 2])\n",
      "torch.Size([686, 1])\n",
      "crop_image_21016_1_0_png\n",
      "(19396, 1)\n",
      "torch.Size([19396, 2])\n",
      "torch.Size([19396, 1])\n"
     ]
    }
   ],
   "source": [
    "keys = list(combined_test_set.keys())\n",
    "df_dict = {}\n",
    "for key in keys:\n",
    "    print(key)\n",
    "    df = build_df_result(combined_test_set[key], preds[key][0],vc_preds[key][0])\n",
    "    df_dict[key] = df"
   ]
  },
  {
   "cell_type": "code",
   "execution_count": 257,
   "metadata": {},
   "outputs": [],
   "source": [
    "df_full = pd.concat([i for i in df_dict.values()])"
   ]
  },
  {
   "cell_type": "code",
   "execution_count": 268,
   "metadata": {},
   "outputs": [],
   "source": [
    "pkl.dump(df_dict,open(WORKING_DIR / \"UKBB_inference_python_dictionaries.pkl\",'wb'))"
   ]
  }
 ],
 "metadata": {
  "kernelspec": {
   "display_name": "Glaucoma",
   "language": "python",
   "name": "glaucoma"
  },
  "language_info": {
   "codemirror_mode": {
    "name": "ipython",
    "version": 3
   },
   "file_extension": ".py",
   "mimetype": "text/x-python",
   "name": "python",
   "nbconvert_exporter": "python",
   "pygments_lexer": "ipython3",
   "version": "3.7.9"
  }
 },
 "nbformat": 4,
 "nbformat_minor": 4
}