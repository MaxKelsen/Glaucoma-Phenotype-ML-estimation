{
 "cells": [
  {
   "cell_type": "markdown",
   "metadata": {},
   "source": [
    "## Concordance investigation\n",
    "\n",
    "This file is part of the Glaucoma Phenotype ML Estimation project.\n",
    "\n",
    " Glaucoma Phenotype ML Estimation is free software: you can redistribute it and/or modify\n",
    "it under the terms of the GNU General Public License as published by\n",
    "the Free Software Foundation, either version 3 of the License, or\n",
    "(at your option) any later version.\n",
    "\n",
    "\n",
    "The Glaucoma Phenotype ML Estimation project is distributed in the hope that it will be useful,\n",
    "but WITHOUT ANY WARRANTY; without even the implied warranty of\n",
    "MERCHANTABILITY or FITNESS FOR A PARTICULAR PURPOSE.  See the\n",
    "GNU General Public License for more details.\n",
    "\n",
    "You should have received a copy of the GNU General Public License\n",
    "along with the Glaucoma Phenotype ML Estimation project.  If not, see <http://www.gnu.org/licenses/>.\n"
   ]
  },
  {
   "cell_type": "markdown",
   "metadata": {},
   "source": [
    "This notebook investigates the concordance relations between the various graders within this dataset, this sets a lower bound for minimum error "
   ]
  },
  {
   "cell_type": "code",
   "execution_count": 7,
   "metadata": {},
   "outputs": [
    {
     "name": "stdout",
     "output_type": "stream",
     "text": [
      "The autoreload extension is already loaded. To reload it, use:\n",
      "  %reload_ext autoreload\n"
     ]
    }
   ],
   "source": [
    "%matplotlib inline\n",
    "%load_ext autoreload\n",
    "%autoreload 2"
   ]
  },
  {
   "cell_type": "code",
   "execution_count": 12,
   "metadata": {},
   "outputs": [],
   "source": [
    "import pickle as pkl\n",
    "import os\n",
    "from pathlib import Path\n",
    "from multiprocessing import Pool, cpu_count\n",
    "import numpy as np\n",
    "import pandas as pd\n",
    "import zipfile\n",
    "#import imageio\n",
    "import matplotlib.pyplot as plt\n",
    "import matplotlib.image as mpimg\n",
    "import seaborn as sns\n",
    "from glaucoma.helpers.glaucoma_helpers import is_number, parse_files, return_uniq_index, return_duplicates, plot_idx, split_unzipped\n",
    "from sklearn.metrics import cohen_kappa_score"
   ]
  },
  {
   "cell_type": "code",
   "execution_count": 14,
   "metadata": {},
   "outputs": [],
   "source": [
    "pd.set_option('display.max_rows', 500)\n",
    "pd.set_option('display.max_columns', 500)\n",
    "pd.set_option('display.width', 1000)\n",
    "pd.set_option('display.expand_frame_repr', False)\n"
   ]
  },
  {
   "cell_type": "code",
   "execution_count": 15,
   "metadata": {},
   "outputs": [],
   "source": [
    "##### PLEASE SET AS REQUIRED########\n",
    "WORKING_DIR = Path(os.getcwd())\n",
    "DATA_DIR = WORKING_DIR / 'data'\n",
    "META_DIR = DATA_DIR / 'metadata'\n",
    "TRAIN_DIR = DATA_DIR /\"traim\""
   ]
  },
  {
   "cell_type": "code",
   "execution_count": 16,
   "metadata": {},
   "outputs": [],
   "source": [
    "unzipped_files = parse_files(str(DATA_DIR / \"unzipped\"))"
   ]
  },
  {
   "cell_type": "code",
   "execution_count": 11,
   "metadata": {},
   "outputs": [],
   "source": [
    "# split up unzipped files\n",
    "unzipped_head, unzipped_tail = split_unzipped(unzipped_files)"
   ]
  },
  {
   "cell_type": "markdown",
   "metadata": {},
   "source": [
    "## Preprocessing"
   ]
  },
  {
   "cell_type": "markdown",
   "metadata": {},
   "source": [
    "Split the files based on each rater"
   ]
  },
  {
   "cell_type": "code",
   "execution_count": 8,
   "metadata": {},
   "outputs": [],
   "source": [
    "meta_files = parse_files(str(META_DIR))"
   ]
  },
  {
   "cell_type": "code",
   "execution_count": 9,
   "metadata": {},
   "outputs": [],
   "source": [
    "v1_meta =[i for i in meta_files if not \"V2\" in i]\n",
    "v2_meta = [i for i in meta_files if \"V2\" in i]"
   ]
  },
  {
   "cell_type": "code",
   "execution_count": 10,
   "metadata": {},
   "outputs": [],
   "source": [
    "meta_df_list =[]\n",
    "for meta in v1_meta:\n",
    "    df = pd.read_csv(meta,sep = '\\t',header = None,names = [ \"file_name\",\"assesment\"])\n",
    "    df['batch_name'] = os.path.split(meta)[1].split(\".\")[0]\n",
    "    meta_df_list.append(df)\n"
   ]
  },
  {
   "cell_type": "code",
   "execution_count": 11,
   "metadata": {},
   "outputs": [],
   "source": [
    "meta_v2_df_list =[]\n",
    "for meta in v2_meta:\n",
    "    df = pd.read_csv(meta,sep = '\\t',header = None,names = [ \"file_name\",\"area\",\"col1\",\"col2\"])\n",
    "    df['batch_name'] = os.path.split(meta)[1].split(\".\")[0]\n",
    "    meta_v2_df_list.append(df)"
   ]
  },
  {
   "cell_type": "code",
   "execution_count": 12,
   "metadata": {},
   "outputs": [],
   "source": [
    "meta_df = pd.concat(meta_df_list,ignore_index =True)"
   ]
  },
  {
   "cell_type": "code",
   "execution_count": 13,
   "metadata": {},
   "outputs": [],
   "source": [
    "meta_v2_df = pd.concat(meta_v2_df_list,ignore_index =True)"
   ]
  },
  {
   "cell_type": "code",
   "execution_count": 14,
   "metadata": {},
   "outputs": [],
   "source": [
    "#split up assesment\n",
    "meta_df[['additional','grading']] = meta_df['assesment'].str.extract('([A-Za-z]+)(\\d+\\.?\\d*)', expand = True)\n"
   ]
  },
  {
   "cell_type": "code",
   "execution_count": 15,
   "metadata": {},
   "outputs": [],
   "source": [
    "#drop all NA assesments\n",
    "meta_df = meta_df[meta_df['assesment'].notna()]"
   ]
  },
  {
   "cell_type": "code",
   "execution_count": 16,
   "metadata": {},
   "outputs": [],
   "source": [
    "#adds all the gradings from assesment\n",
    "meta_df.loc[meta_df['grading'].isnull(),\"grading\"] = meta_df.loc[meta_df['grading'].isnull(),\"assesment\"]"
   ]
  },
  {
   "cell_type": "code",
   "execution_count": 18,
   "metadata": {},
   "outputs": [],
   "source": [
    "assesments = list(meta_df['assesment'])"
   ]
  },
  {
   "cell_type": "code",
   "execution_count": 19,
   "metadata": {},
   "outputs": [],
   "source": [
    "# take out the string values and replaces then with -1\n",
    "for i,item in enumerate(assesments):\n",
    "    if any(map(str.isdigit, item)) == False:\n",
    "        meta_df.iloc[i,4] = -1\n",
    "        meta_df.iloc[i,3] = meta_df.iloc[i,1]\n",
    "        \n",
    "    "
   ]
  },
  {
   "cell_type": "code",
   "execution_count": 159,
   "metadata": {},
   "outputs": [],
   "source": [
    "#adding name of grader"
   ]
  },
  {
   "cell_type": "code",
   "execution_count": 24,
   "metadata": {},
   "outputs": [],
   "source": [
    "batch_names = list(meta_df[\"batch_name\"])"
   ]
  },
  {
   "cell_type": "code",
   "execution_count": 26,
   "metadata": {},
   "outputs": [],
   "source": [
    "meta_df[\"grader\"] = \"null\""
   ]
  },
  {
   "cell_type": "code",
   "execution_count": 22,
   "metadata": {},
   "outputs": [
    {
     "data": {
      "text/plain": [
       "101077"
      ]
     },
     "execution_count": 22,
     "metadata": {},
     "output_type": "execute_result"
    }
   ],
   "source": [
    "len(batch_names)"
   ]
  },
  {
   "cell_type": "code",
   "execution_count": 27,
   "metadata": {},
   "outputs": [],
   "source": [
    "###### CHANGE THESE AS REQUIRED########\n",
    "# rater names\n",
    "rater_1 = \"\"\n",
    "rater_2 = \"\"\n",
    "rater_3\n",
    "\n",
    "for i, bn in enumerate(batch_names):\n",
    "    if rater_1 in bn:\n",
    "        meta_df.iloc[i,5] = rater_1\n",
    "    if rater_2 in bn:\n",
    "        meta_df.iloc[i,5] = rater_2\n",
    "    if rater_3 in bn:\n",
    "        meta_df.iloc[i,5] = rater_3\n",
    "        "
   ]
  },
  {
   "cell_type": "code",
   "execution_count": 28,
   "metadata": {},
   "outputs": [],
   "source": [
    "meta_df.drop_duplicates(inplace = True)"
   ]
  },
  {
   "cell_type": "code",
   "execution_count": 29,
   "metadata": {},
   "outputs": [],
   "source": [
    "#change grading to float\n",
    "meta_df[\"grading\"] = meta_df[\"grading\"].astype(\"float\")"
   ]
  },
  {
   "cell_type": "code",
   "execution_count": 30,
   "metadata": {},
   "outputs": [],
   "source": [
    "# Fixing the strange samples:"
   ]
  },
  {
   "cell_type": "code",
   "execution_count": 31,
   "metadata": {},
   "outputs": [],
   "source": [
    "meta_df.loc[meta_df[\"grading\"] == 77.5,\"grading\"] = 7.5\n",
    "meta_df.loc[meta_df[\"grading\"] == 2.52,\"grading\"] = 2.5\n",
    "meta_df.loc[meta_df[\"grading\"] == 7.57,\"grading\"] = 7.5\n",
    "meta_df.loc[meta_df[\"grading\"] == 6.55,\"grading\"] = 2.5"
   ]
  },
  {
   "cell_type": "code",
   "execution_count": 32,
   "metadata": {},
   "outputs": [],
   "source": [
    "unknown_samples = meta_df[(meta_df[\"grading\"] % 0.5 != 0) | (meta_df[\"grading\"] > 10)].copy(deep=True)"
   ]
  },
  {
   "cell_type": "code",
   "execution_count": 33,
   "metadata": {},
   "outputs": [],
   "source": [
    "#drop unknown samples\n",
    "meta_df = meta_df[~(meta_df[\"grading\"] % 0.5 != 0) & ~(meta_df[\"grading\"] > 10)]"
   ]
  },
  {
   "cell_type": "code",
   "execution_count": null,
   "metadata": {},
   "outputs": [],
   "source": [
    "# adding left and right tag to eye:\n",
    "meta_df[\"orientation\"] = 'left'\n",
    "for i, bn in enumerate(batch_names):\n",
    "    if \"Right\" in bn:\n",
    "         meta_df.iloc[i,6] = \"right\"\n",
    "        "
   ]
  },
  {
   "cell_type": "code",
   "execution_count": 12,
   "metadata": {},
   "outputs": [],
   "source": [
    "#save out metafile\n",
    "meta_df = pkl.load(open(str(DATA_DIR /\"meta_df_v5.pkl\"),'rb'))"
   ]
  },
  {
   "cell_type": "code",
   "execution_count": 13,
   "metadata": {},
   "outputs": [],
   "source": [
    "image_groupby = meta_df.groupby(\"file_name\")"
   ]
  },
  {
   "cell_type": "code",
   "execution_count": 14,
   "metadata": {},
   "outputs": [],
   "source": [
    "image_groupby = meta_df.groupby(\"file_name\")[\"grading\"].agg(['mean','count',\"var\"])"
   ]
  },
  {
   "cell_type": "code",
   "execution_count": 18,
   "metadata": {},
   "outputs": [],
   "source": [
    "#samples which have been graded twice with same values that were not ungradable\n",
    "repeated_images = image_groupby[(image_groupby[\"var\"] > 0) & (image_groupby[\"count\"] > 1)].index\n",
    "#repeated_images = list(repeated_images)"
   ]
  },
  {
   "cell_type": "code",
   "execution_count": null,
   "metadata": {},
   "outputs": [],
   "source": [
    "meta_df[meta_df[\"file_name\"] == '3044056_21015_0_0.jpg']"
   ]
  },
  {
   "cell_type": "code",
   "execution_count": 26,
   "metadata": {},
   "outputs": [],
   "source": [
    "multi_rated = list(image_groupby[image_groupby[\"count\"] > 18].index)"
   ]
  },
  {
   "cell_type": "code",
   "execution_count": 17,
   "metadata": {},
   "outputs": [],
   "source": [
    "#images which have gradings from different peope=le\n",
    "different_grader_images = []\n",
    "for file in repeated_images:\n",
    "    if len( meta_df[meta_df[\"file_name\"] == file]['grader'].unique()) > 1 and -1 not in list(meta_df[meta_df[\"file_name\"] == file]['grading']):\n",
    "        different_grader_images.append(file)"
   ]
  },
  {
   "cell_type": "code",
   "execution_count": 101,
   "metadata": {},
   "outputs": [
    {
     "data": {
      "text/plain": [
       "3373"
      ]
     },
     "execution_count": 101,
     "metadata": {},
     "output_type": "execute_result"
    }
   ],
   "source": [
    "len(different_grader_images)"
   ]
  },
  {
   "cell_type": "code",
   "execution_count": 72,
   "metadata": {},
   "outputs": [
    {
     "data": {
      "text/html": [
       "<div>\n",
       "<style scoped>\n",
       "    .dataframe tbody tr th:only-of-type {\n",
       "        vertical-align: middle;\n",
       "    }\n",
       "\n",
       "    .dataframe tbody tr th {\n",
       "        vertical-align: top;\n",
       "    }\n",
       "\n",
       "    .dataframe thead th {\n",
       "        text-align: right;\n",
       "    }\n",
       "</style>\n",
       "<table border=\"1\" class=\"dataframe\">\n",
       "  <thead>\n",
       "    <tr style=\"text-align: right;\">\n",
       "      <th></th>\n",
       "      <th>file_name</th>\n",
       "      <th>assesment</th>\n",
       "      <th>batch_name</th>\n",
       "      <th>additional</th>\n",
       "      <th>grading</th>\n",
       "      <th>grader</th>\n",
       "    </tr>\n",
       "  </thead>\n",
       "  <tbody>\n",
       "    <tr>\n",
       "      <th>17368</th>\n",
       "      <td>1006584_21015_1_0.jpg</td>\n",
       "      <td>4.5</td>\n",
       "      <td>L_87_jamie1</td>\n",
       "      <td>NaN</td>\n",
       "      <td>4.5</td>\n",
       "      <td>jamie</td>\n",
       "    </tr>\n",
       "    <tr>\n",
       "      <th>18378</th>\n",
       "      <td>1006584_21015_1_0.jpg</td>\n",
       "      <td>5</td>\n",
       "      <td>L_87_NickAndrew</td>\n",
       "      <td>NaN</td>\n",
       "      <td>5.0</td>\n",
       "      <td>nick</td>\n",
       "    </tr>\n",
       "  </tbody>\n",
       "</table>\n",
       "</div>"
      ],
      "text/plain": [
       "                   file_name assesment       batch_name additional  grading grader\n",
       "17368  1006584_21015_1_0.jpg       4.5      L_87_jamie1        NaN      4.5  jamie\n",
       "18378  1006584_21015_1_0.jpg         5  L_87_NickAndrew        NaN      5.0   nick"
      ]
     },
     "execution_count": 72,
     "metadata": {},
     "output_type": "execute_result"
    }
   ],
   "source": [
    "meta_df[meta_df[\"file_name\"] == '1006584_21015_1_0.jpg']"
   ]
  },
  {
   "cell_type": "code",
   "execution_count": 102,
   "metadata": {},
   "outputs": [],
   "source": [
    "#find the difference across graders\n",
    "image_dfs = {}\n",
    "data_1 =[]\n",
    "data_2 = []\n",
    "data_3 = []\n",
    "for file in different_grader_images:\n",
    "    df = meta_df[meta_df[\"file_name\"] == file]\n",
    "    group_by = df.groupby(\"grader\").agg(['mean','count',\"var\"])\n",
    "    #check that it is graded by both\n",
    "    if rater_1 in group_by.index and rater_2 in group_by.index:\n",
    "        data_2.append(group_by['grading'].loc[rater_2,'mean'])\n",
    "        data_1.append(group_by['grading'].loc[rater_1,'mean'])\n",
    "    else:\n",
    "        data_3.append(file)\n",
    "    image_dfs[file] = group_by"
   ]
  },
  {
   "cell_type": "code",
   "execution_count": 103,
   "metadata": {},
   "outputs": [
    {
     "data": {
      "text/plain": [
       "2199"
      ]
     },
     "execution_count": 103,
     "metadata": {},
     "output_type": "execute_result"
    }
   ],
   "source": [
    "len(data_2)"
   ]
  },
  {
   "cell_type": "code",
   "execution_count": 104,
   "metadata": {},
   "outputs": [
    {
     "data": {
      "text/plain": [
       "1174"
      ]
     },
     "execution_count": 104,
     "metadata": {},
     "output_type": "execute_result"
    }
   ],
   "source": [
    "len(data_3)"
   ]
  },
  {
   "cell_type": "markdown",
   "metadata": {},
   "source": [
    "## Bland Atman plot"
   ]
  },
  {
   "cell_type": "code",
   "execution_count": 79,
   "metadata": {},
   "outputs": [],
   "source": [
    "import pyCompare"
   ]
  },
  {
   "cell_type": "code",
   "execution_count": 111,
   "metadata": {},
   "outputs": [
    {
     "data": {
      "image/png": "[encoded data removed]",
      "text/plain": [
       "<Figure size 720x504 with 1 Axes>"
      ]
     },
     "metadata": {
      "needs_background": "light"
     },
     "output_type": "display_data"
    }
   ],
   "source": [
    "pyCompare.blandAltman(data_2, data_1,\n",
    "            limitOfAgreement=1.96,\n",
    "            confidenceInterval=95,\n",
    "            confidenceIntervalMethod='approximate',\n",
    "            detrend=None,\n",
    "            percentage=False)"
   ]
  },
  {
   "cell_type": "markdown",
   "metadata": {},
   "source": [
    "### Pearson"
   ]
  },
  {
   "cell_type": "code",
   "execution_count": 113,
   "metadata": {},
   "outputs": [],
   "source": [
    "from scipy.stats import pearsonr"
   ]
  },
  {
   "cell_type": "code",
   "execution_count": 114,
   "metadata": {},
   "outputs": [
    {
     "data": {
      "text/plain": [
       "(0.6698250808949919, 2.2346796660924033e-286)"
      ]
     },
     "execution_count": 114,
     "metadata": {},
     "output_type": "execute_result"
    }
   ],
   "source": [
    "pearsonr(data_2,data_1)"
   ]
  },
  {
   "cell_type": "code",
   "execution_count": 170,
   "metadata": {},
   "outputs": [],
   "source": [
    "unzipped_tail = np.asarray(unzipped_tail)"
   ]
  },
  {
   "cell_type": "code",
   "execution_count": 183,
   "metadata": {},
   "outputs": [],
   "source": [
    "def print_all_img(img):\n",
    "    list_idx = np.where(unzipped_tail == img )[0]\n",
    "    for idx in list_idx:\n",
    "        print(idx)\n",
    "        img=mpimg.imread(unzipped_files[idx])\n",
    "        imgplot = plt.imshow(img)\n",
    "        plt.show()"
   ]
  },
  {
   "cell_type": "markdown",
   "metadata": {},
   "source": [
    "## individual rating distributions"
   ]
  },
  {
   "cell_type": "code",
   "execution_count": 133,
   "metadata": {},
   "outputs": [],
   "source": [
    "import seaborn as sns\n",
    "\n",
    "sns.set(rc={'figure.figsize':(11.7,8.27)})"
   ]
  },
  {
   "cell_type": "code",
   "execution_count": 136,
   "metadata": {},
   "outputs": [],
   "source": [
    "grads_1 = list(meta_df[(meta_df[\"grader\"] == rater_1) & (meta_df[\"grading\"] >=0)][\"grading\"])\n",
    "grads_2 = list(meta_df[(meta_df[\"grader\"] == rater_2) & (meta_df[\"grading\"] >=0)][\"grading\"])\n",
    "grads_3 = list(meta_df[(meta_df[\"grader\"] == rater_3) & (meta_df[\"grading\"] >=0)][\"grading\"])"
   ]
  },
  {
   "cell_type": "code",
   "execution_count": 137,
   "metadata": {},
   "outputs": [
    {
     "data": {
      "text/plain": [
       "<matplotlib.axes._subplots.AxesSubplot at 0x7fe318436cd0>"
      ]
     },
     "execution_count": 137,
     "metadata": {},
     "output_type": "execute_result"
    },
    {
     "data": {
      "image/png": "[encoded data removed]",
      "text/plain": [
       "<Figure size 842.4x595.44 with 1 Axes>"
      ]
     },
     "metadata": {},
     "output_type": "display_data"
    }
   ],
   "source": [
    "sns.distplot(grads_2,hist= False,label = rater_2)\n",
    "sns.distplot(grads_1,hist = False,label  = rater_1)"
   ]
  },
  {
   "cell_type": "markdown",
   "metadata": {},
   "source": [
    "## Intra -rater consistancy"
   ]
  },
  {
   "cell_type": "code",
   "execution_count": 30,
   "metadata": {},
   "outputs": [],
   "source": [
    "from nltk import agreement"
   ]
  },
  {
   "cell_type": "code",
   "execution_count": null,
   "metadata": {},
   "outputs": [],
   "source": [
    "person = rater_2\n",
    "sets = []\n",
    "for file in multi_rated:\n",
    "    df = meta_df[meta_df[\"file_name\"] == file]\n",
    "    df = df[df['grader'] == person].iloc[:7,:]\n",
    "    print(df.shape)\n",
    "    sets.append(list(df[\"grading\"]))\n",
    "        "
   ]
  },
  {
   "cell_type": "code",
   "execution_count": 156,
   "metadata": {},
   "outputs": [],
   "source": [
    "import pingouin as pg\n",
    "# package required\n"
   ]
  },
  {
   "cell_type": "code",
   "execution_count": 178,
   "metadata": {},
   "outputs": [],
   "source": [
    "icc_set = meta_df[(meta_df[\"file_name\"].isin(multi_rated))& (meta_df[\"grader\"] == rater_2)]"
   ]
  },
  {
   "cell_type": "code",
   "execution_count": 179,
   "metadata": {},
   "outputs": [
    {
     "data": {
      "text/html": [
       "<div>\n",
       "<style scoped>\n",
       "    .dataframe tbody tr th:only-of-type {\n",
       "        vertical-align: middle;\n",
       "    }\n",
       "\n",
       "    .dataframe tbody tr th {\n",
       "        vertical-align: top;\n",
       "    }\n",
       "\n",
       "    .dataframe thead th {\n",
       "        text-align: right;\n",
       "    }\n",
       "</style>\n",
       "<table border=\"1\" class=\"dataframe\">\n",
       "  <thead>\n",
       "    <tr style=\"text-align: right;\">\n",
       "      <th></th>\n",
       "      <th>Type</th>\n",
       "      <th>Description</th>\n",
       "      <th>ICC</th>\n",
       "      <th>F</th>\n",
       "      <th>df1</th>\n",
       "      <th>df2</th>\n",
       "      <th>pval</th>\n",
       "      <th>CI95%</th>\n",
       "    </tr>\n",
       "  </thead>\n",
       "  <tbody>\n",
       "    <tr>\n",
       "      <th>0</th>\n",
       "      <td>ICC1</td>\n",
       "      <td>Single raters absolute</td>\n",
       "      <td>NaN</td>\n",
       "      <td>NaN</td>\n",
       "      <td>19</td>\n",
       "      <td>0</td>\n",
       "      <td>NaN</td>\n",
       "      <td>[nan, nan]</td>\n",
       "    </tr>\n",
       "    <tr>\n",
       "      <th>1</th>\n",
       "      <td>ICC2</td>\n",
       "      <td>Single random raters</td>\n",
       "      <td>NaN</td>\n",
       "      <td>NaN</td>\n",
       "      <td>19</td>\n",
       "      <td>0</td>\n",
       "      <td>NaN</td>\n",
       "      <td>[nan, nan]</td>\n",
       "    </tr>\n",
       "    <tr>\n",
       "      <th>2</th>\n",
       "      <td>ICC3</td>\n",
       "      <td>Single fixed raters</td>\n",
       "      <td>NaN</td>\n",
       "      <td>NaN</td>\n",
       "      <td>19</td>\n",
       "      <td>0</td>\n",
       "      <td>NaN</td>\n",
       "      <td>[nan, nan]</td>\n",
       "    </tr>\n",
       "    <tr>\n",
       "      <th>3</th>\n",
       "      <td>ICC1k</td>\n",
       "      <td>Average raters absolute</td>\n",
       "      <td>NaN</td>\n",
       "      <td>NaN</td>\n",
       "      <td>19</td>\n",
       "      <td>0</td>\n",
       "      <td>NaN</td>\n",
       "      <td>[nan, nan]</td>\n",
       "    </tr>\n",
       "    <tr>\n",
       "      <th>4</th>\n",
       "      <td>ICC2k</td>\n",
       "      <td>Average random raters</td>\n",
       "      <td>NaN</td>\n",
       "      <td>NaN</td>\n",
       "      <td>19</td>\n",
       "      <td>0</td>\n",
       "      <td>NaN</td>\n",
       "      <td>[nan, nan]</td>\n",
       "    </tr>\n",
       "    <tr>\n",
       "      <th>5</th>\n",
       "      <td>ICC3k</td>\n",
       "      <td>Average fixed raters</td>\n",
       "      <td>NaN</td>\n",
       "      <td>NaN</td>\n",
       "      <td>19</td>\n",
       "      <td>0</td>\n",
       "      <td>NaN</td>\n",
       "      <td>[nan, nan]</td>\n",
       "    </tr>\n",
       "  </tbody>\n",
       "</table>\n",
       "</div>"
      ],
      "text/plain": [
       "    Type              Description  ICC   F  df1  df2  pval       CI95%\n",
       "0   ICC1   Single raters absolute  NaN NaN   19    0   NaN  [nan, nan]\n",
       "1   ICC2     Single random raters  NaN NaN   19    0   NaN  [nan, nan]\n",
       "2   ICC3      Single fixed raters  NaN NaN   19    0   NaN  [nan, nan]\n",
       "3  ICC1k  Average raters absolute  NaN NaN   19    0   NaN  [nan, nan]\n",
       "4  ICC2k    Average random raters  NaN NaN   19    0   NaN  [nan, nan]\n",
       "5  ICC3k     Average fixed raters  NaN NaN   19    0   NaN  [nan, nan]"
      ]
     },
     "execution_count": 179,
     "metadata": {},
     "output_type": "execute_result"
    }
   ],
   "source": [
    "pg.intraclass_corr(data = icc_set,targets =\"file_name\",raters = \"grader\",ratings = \"grading\",nan_policy = 'omit')"
   ]
  },
  {
   "cell_type": "code",
   "execution_count": 144,
   "metadata": {},
   "outputs": [
    {
     "data": {
      "text/plain": [
       "0.35173251144111334"
      ]
     },
     "execution_count": 144,
     "metadata": {},
     "output_type": "execute_result"
    }
   ],
   "source": [
    "statsmodels.stats.inter_rater.fleiss_kappa(mat,method ='fleiss')"
   ]
  },
  {
   "cell_type": "code",
   "execution_count": 148,
   "metadata": {},
   "outputs": [],
   "source": [
    "from collections import Counter"
   ]
  },
  {
   "cell_type": "code",
   "execution_count": 149,
   "metadata": {},
   "outputs": [],
   "source": [
    "counts = []\n",
    "for i in sets:\n",
    "    counts.append(Counter(i))\n",
    "    "
   ]
  },
  {
   "cell_type": "code",
   "execution_count": 151,
   "metadata": {},
   "outputs": [],
   "source": [
    "mat =np.zeros((20,21))\n",
    "for i,c in enumerate(counts):\n",
    "    for k,v in c.items():\n",
    "        idx = int((float(k)+ 1) * 2)\n",
    "        #print(idx,\" \",i)\n",
    "        mat[i,idx] = v\n",
    "        \n",
    "    "
   ]
  },
  {
   "cell_type": "code",
   "execution_count": 153,
   "metadata": {},
   "outputs": [
    {
     "data": {
      "text/plain": [
       "0.28133020868206676"
      ]
     },
     "execution_count": 153,
     "metadata": {},
     "output_type": "execute_result"
    }
   ],
   "source": [
    "fleiss_kappa(mat)"
   ]
  },
  {
   "cell_type": "code",
   "execution_count": 74,
   "metadata": {},
   "outputs": [],
   "source": [
    "def fleiss_kappa(M):\n",
    "    \"\"\"\n",
    "    See `Fleiss' Kappa <https://en.wikipedia.org/wiki/Fleiss%27_kappa>`_.\n",
    "    :param M: a matrix of shape (:attr:`N`, :attr:`k`) where `N` is the number of subjects and `k` is the number of categories into which assignments are made. `M[i, j]` represent the number of raters who assigned the `i`th subject to the `j`th category.\n",
    "    :type M: numpy matrix\n",
    "    \"\"\"\n",
    "    N, k = M.shape  # N is # of items, k is # of categories\n",
    "    n_annotators = float(np.sum(M[0, :]))  # # of annotators\n",
    "\n",
    "    p = np.sum(M, axis=0) / (N * n_annotators)\n",
    "    P = (np.sum(M * M, axis=1) - n_annotators) / (n_annotators * (n_annotators - 1))\n",
    "    Pbar = np.sum(P) / N\n",
    "    PbarE = np.sum(p * p)\n",
    "\n",
    "    kappa = (Pbar - PbarE) / (1 - PbarE)\n",
    "\n",
    "    return kappa"
   ]
  }
 ],
 "metadata": {
  "kernelspec": {
   "display_name": "Glaucoma",
   "language": "python",
   "name": "glaucoma"
  },
  "language_info": {
   "codemirror_mode": {
    "name": "ipython",
    "version": 3
   },
   "file_extension": ".py",
   "mimetype": "text/x-python",
   "name": "python",
   "nbconvert_exporter": "python",
   "pygments_lexer": "ipython3",
   "version": "3.7.9"
  }
 },
 "nbformat": 4,
 "nbformat_minor": 4
}
