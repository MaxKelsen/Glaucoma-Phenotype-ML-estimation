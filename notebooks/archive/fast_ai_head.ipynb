{
 "cells": [
  {
   "cell_type": "markdown",
   "metadata": {},
   "source": [
    "# Custom aleotoric epistemic training head\n",
    "\n",
    "This file is part of the Glaucoma Phenotype ML Estimation project.\n",
    "\n",
    " Glaucoma Phenotype ML Estimation is free software: you can redistribute it and/or modify\n",
    "it under the terms of the GNU General Public License as published by\n",
    "the Free Software Foundation, either version 3 of the License, or\n",
    "(at your option) any later version.\n",
    "\n",
    "\n",
    "The Glaucoma Phenotype ML Estimation project is distributed in the hope that it will be useful,\n",
    "but WITHOUT ANY WARRANTY; without even the implied warranty of\n",
    "MERCHANTABILITY or FITNESS FOR A PARTICULAR PURPOSE.  See the\n",
    "GNU General Public License for more details.\n",
    "\n",
    "You should have received a copy of the GNU General Public License\n",
    "along with the Glaucoma Phenotype ML Estimation project.  If not, see <http://www.gnu.org/licenses/>.\n"
   ]
  },
  {
   "cell_type": "code",
   "execution_count": 1,
   "metadata": {},
   "outputs": [],
   "source": [
    "%matplotlib inline\n",
    "%load_ext autoreload\n",
    "%autoreload 2"
   ]
  },
  {
   "cell_type": "code",
   "execution_count": 2,
   "metadata": {},
   "outputs": [],
   "source": [
    "import fastai.basic_train"
   ]
  },
  {
   "cell_type": "code",
   "execution_count": 15,
   "metadata": {},
   "outputs": [],
   "source": [
    "#this needs to be replaced\n",
    "def _loss_batch(model:nn.Module, xb:Tensor, yb:Tensor, loss_func:OptLossFunc=None, opt:OptOptimizer=None,\n",
    "               cb_handler:Optional[CallbackHandler]=None,num_sim =1)->Tuple[Union[Tensor,int,float,str]]:\n",
    "    \"Calculate loss and metrics for a batch, call out to callbacks as necessary.\"\n",
    "    #bllbacks on loss most likley wont work with this, so be careful\n",
    "    cb_handler = ifnone(cb_handler, CallbackHandler())\n",
    "    if not is_listy(xb): xb = [xb]\n",
    "    if not is_listy(yb): yb = [yb]\n",
    "    \n",
    "    if num_sim > 1:\n",
    "        assert model.training == True\n",
    "        output_simulations = [model(*xb) for _ in range(num_sim)]\n",
    "    elif num_sim == 1:\n",
    "        output_simulations = model(*xb)\n",
    "        \n",
    "        \n",
    "    #out = model(*xb)\n",
    "    #out = cb_handler.on_loss_begin(out)\n",
    "\n",
    "    if not loss_func: return to_detach(out), to_detach(yb[0])\n",
    "    \n",
    "    output_components = model.get_preds(output_simulations)\n",
    "    p_mean, epistemic, aleatoric = output_components\n",
    "    model.aleatoric.append(aleatoric.detach().cpu())\n",
    "    if num_sim > 1:\n",
    "        model.epistemic.append(epistemic.detach().cpu())\n",
    "    loss = loss_func(p_mean, *yb)\n",
    "\n",
    "    if opt is not None:\n",
    "        loss,skip_bwd = cb_handler.on_backward_begin(loss)\n",
    "        if not skip_bwd:                     loss.backward()\n",
    "        if not cb_handler.on_backward_end(): opt.step()\n",
    "        if not cb_handler.on_step_end():     opt.zero_grad()\n",
    "\n",
    "    return loss.detach().cpu()"
   ]
  },
  {
   "cell_type": "code",
   "execution_count": 16,
   "metadata": {},
   "outputs": [],
   "source": [
    "fastai.basic_train.loss_batch = _loss_batch"
   ]
  },
  {
   "cell_type": "code",
   "execution_count": 28,
   "metadata": {},
   "outputs": [],
   "source": [
    "import pickle as pkl\n",
    "import os\n",
    "from pathlib import Path\n",
    "from multiprocessing import Pool, cpu_count\n",
    "import numpy as np\n",
    "import pandas as pd\n",
    "import zipfile\n",
    "#import imageio\n",
    "import matplotlib.pyplot as plt\n",
    "import seaborn as sns\n",
    "from fastai.vision import *\n",
    "from PIL import Image\n",
    "\n",
    "from fastai.vision.models import *\n",
    "from fastai.vision.learner import model_meta\n",
    "from fastai.callbacks import *\n",
    "import torch.distributions as tdist\n",
    "import os\n",
    "os.environ['CUDA_LAUNCH_BLOCKING'] = \"1\""
   ]
  },
  {
   "cell_type": "code",
   "execution_count": 6,
   "metadata": {},
   "outputs": [],
   "source": [
    "#some Utils\n",
    "from fastai.torch_core import flatten_model\n",
    "from fastai.layers import CrossEntropyFlat\n",
    "\n",
    "\n",
    "def arch_summary(arch):\n",
    "    model = arch(False)\n",
    "    tot = 0\n",
    "    for i, l in enumerate(model.children()):\n",
    "        n_layers = len(flatten_model(l))\n",
    "        tot += n_layers\n",
    "        print(f'({i}) {l.__class__.__name__:<12}: {n_layers:<4}layers (total: {tot})')\n",
    "\n",
    "\n",
    "def get_groups(model, layer_groups):\n",
    "    group_indices = [len(g) for g in layer_groups]\n",
    "    curr_i = 0\n",
    "    group = []\n",
    "    for layer in model:\n",
    "        group_indices[curr_i] -= len(flatten_model(layer))\n",
    "        group.append(layer.__class__.__name__)\n",
    "        if group_indices[curr_i] == 0:\n",
    "            curr_i += 1\n",
    "            print(f'Group {curr_i}:', group)   \n",
    "            group = []\n",
    "            \n",
    "            \n",
    "class FakeData:\n",
    "    def __init__(self):\n",
    "        self.c = 2\n",
    "        self.path = ''    \n",
    "        self.device = None\n",
    "        self.loss_func = CrossEntropyFlat(axis=1)"
   ]
  },
  {
   "cell_type": "code",
   "execution_count": 18,
   "metadata": {},
   "outputs": [],
   "source": [
    "import warnings\n",
    "\n",
    "warnings.filterwarnings(action='once')\n",
    "warnings.filterwarnings(action='ignore')"
   ]
  },
  {
   "cell_type": "markdown",
   "metadata": {},
   "source": [
    "## Data"
   ]
  },
  {
   "cell_type": "code",
   "execution_count": 9,
   "metadata": {},
   "outputs": [],
   "source": [
    "#WORKING_DIR = Path('/home/kaiah_steven_maxkelsen_com/glaucoma')\n",
    "WORKING_DIR = Path('/home/jovyan/glaucoma/')\n",
    "DATA_DIR = WORKING_DIR / 'data'\n",
    "META_DIR = DATA_DIR / 'metadata'\n",
    "TRAIN_DIR = DATA_DIR / 'training'\n",
    "CLEAN_DIR = DATA_DIR / \"train_clean\""
   ]
  },
  {
   "cell_type": "code",
   "execution_count": 10,
   "metadata": {},
   "outputs": [],
   "source": [
    "path_img = CLEAN_DIR\n"
   ]
  },
  {
   "cell_type": "code",
   "execution_count": 11,
   "metadata": {},
   "outputs": [
    {
     "name": "stderr",
     "output_type": "stream",
     "text": [
      "/opt/conda/lib/python3.6/site-packages/torch/nn/functional.py:2854: UserWarning: The default behavior for interpolate/upsample with float scale_factor will change in 1.6.0 to align with other frameworks/libraries, and use scale_factor directly, instead of relying on the computed output size. If you wish to keep the old behavior, please set recompute_scale_factor=True. See the documentation of nn.Upsample for details. \n",
      "  warnings.warn(\"The default behavior for interpolate/upsample with float scale_factor will change \"\n",
      "/opt/conda/lib/python3.6/site-packages/torch/nn/functional.py:2854: UserWarning: The default behavior for interpolate/upsample with float scale_factor will change in 1.6.0 to align with other frameworks/libraries, and use scale_factor directly, instead of relying on the computed output size. If you wish to keep the old behavior, please set recompute_scale_factor=True. See the documentation of nn.Upsample for details. \n",
      "  warnings.warn(\"The default behavior for interpolate/upsample with float scale_factor will change \"\n"
     ]
    }
   ],
   "source": [
    "#using smaller image size\n",
    "src = ImageList.from_folder(str(path_img)).split_by_rand_pct(seed=42).label_from_func(lambda o: (o.parts if isinstance(o, Path) else o.split(os.path.sep))[-2],label_cls=FloatList)\n",
    "tfms = get_transforms(max_lighting = 0.25) # or tfms=None if none are needed\n",
    "size=(400,520) # size=(224,224) or (400,224)\n",
    "data = src.transform(tfms=tfms, size=size, resize_method=ResizeMethod.SQUISH).databunch(num_workers=4).normalize(imagenet_stats)"
   ]
  },
  {
   "cell_type": "code",
   "execution_count": 26,
   "metadata": {},
   "outputs": [],
   "source": [
    "def create_head_split(nf:int, nc:int, lin_ftrs:Optional[Collection[int]]=None, ps:Floats=0.5, bn_final:bool=False):\n",
    "    \"Model head that takes `nf` features, runs through `lin_ftrs`, and about `nc` classes.\"\n",
    "    lin_ftrs = [nf, 512, nc] if lin_ftrs is None else [nf] + lin_ftrs + [nc]\n",
    "    ps = listify(ps)\n",
    "    if len(ps)==1: ps = [ps[0]/2] * (len(lin_ftrs)-2) + ps\n",
    "    actns = [nn.ReLU(inplace=True)] * (len(lin_ftrs)-2) + [None]\n",
    "    layers = [AdaptiveConcatPool2d(), Flatten()]\n",
    "    for ni,no,p,actn in zip(lin_ftrs[:-1],lin_ftrs[1:],ps,actns):\n",
    "        layers += bn_drop_lin(ni,no,True,p,actn)\n",
    "    if bn_final: layers.append(nn.BatchNorm1d(lin_ftrs[-1], momentum=0.01))\n",
    "    return nn.Sequential(*layers)"
   ]
  },
  {
   "cell_type": "code",
   "execution_count": 23,
   "metadata": {},
   "outputs": [],
   "source": [
    "learn = cnn_learner(data,models.resnet34)"
   ]
  },
  {
   "cell_type": "code",
   "execution_count": 19,
   "metadata": {},
   "outputs": [
    {
     "data": {
      "text/plain": [
       "512"
      ]
     },
     "execution_count": 19,
     "metadata": {},
     "output_type": "execute_result"
    }
   ],
   "source": [
    "learn.model[1][-1].in_features"
   ]
  },
  {
   "cell_type": "code",
   "execution_count": 24,
   "metadata": {},
   "outputs": [
    {
     "name": "stdout",
     "output_type": "stream",
     "text": [
      "Epistemic not possible when num_sim = 1\n"
     ]
    }
   ],
   "source": [
    "combined_res = combined_model(learn.model[0],learn.model[1],1)"
   ]
  },
  {
   "cell_type": "code",
   "execution_count": 25,
   "metadata": {},
   "outputs": [
    {
     "name": "stdout",
     "output_type": "stream",
     "text": [
      "this Learner object self-destroyed - it still exists, but no longer usable\n"
     ]
    }
   ],
   "source": [
    "learn.destroy()\n",
    "learn = Learner(data,combined_res)"
   ]
  },
  {
   "cell_type": "code",
   "execution_count": 33,
   "metadata": {},
   "outputs": [
    {
     "data": {
      "text/html": [
       "\n",
       "    <div>\n",
       "        <style>\n",
       "            /* Turns off some styling */\n",
       "            progress {\n",
       "                /* gets rid of default border in Firefox and Opera. */\n",
       "                border: none;\n",
       "                /* Needs to be in here for Safari polyfill so background images work as expected. */\n",
       "                background-size: auto;\n",
       "            }\n",
       "            .progress-bar-interrupted, .progress-bar-interrupted::-webkit-progress-bar {\n",
       "                background: #F44336;\n",
       "            }\n",
       "        </style>\n",
       "      <progress value='0' class='' max='1' style='width:300px; height:20px; vertical-align: middle;'></progress>\n",
       "      0.00% [0/1 00:00<00:00]\n",
       "    </div>\n",
       "    \n",
       "<table border=\"1\" class=\"dataframe\">\n",
       "  <thead>\n",
       "    <tr style=\"text-align: left;\">\n",
       "      <th>epoch</th>\n",
       "      <th>train_loss</th>\n",
       "      <th>valid_loss</th>\n",
       "      <th>time</th>\n",
       "    </tr>\n",
       "  </thead>\n",
       "  <tbody>\n",
       "  </tbody>\n",
       "</table><p>\n",
       "\n",
       "    <div>\n",
       "        <style>\n",
       "            /* Turns off some styling */\n",
       "            progress {\n",
       "                /* gets rid of default border in Firefox and Opera. */\n",
       "                border: none;\n",
       "                /* Needs to be in here for Safari polyfill so background images work as expected. */\n",
       "                background-size: auto;\n",
       "            }\n",
       "            .progress-bar-interrupted, .progress-bar-interrupted::-webkit-progress-bar {\n",
       "                background: #F44336;\n",
       "            }\n",
       "        </style>\n",
       "      <progress value='99' class='' max='907' style='width:300px; height:20px; vertical-align: middle;'></progress>\n",
       "      10.92% [99/907 02:15<18:24 14.8332]\n",
       "    </div>\n",
       "    "
      ],
      "text/plain": [
       "<IPython.core.display.HTML object>"
      ]
     },
     "metadata": {},
     "output_type": "display_data"
    },
    {
     "name": "stdout",
     "output_type": "stream",
     "text": [
      "LR Finder is complete, type {learner_name}.recorder.plot() to see the graph.\n"
     ]
    }
   ],
   "source": [
    "learn.lr_find()"
   ]
  },
  {
   "cell_type": "code",
   "execution_count": 34,
   "metadata": {},
   "outputs": [
    {
     "data": {
      "image/png": "[encoded data removed]",
      "text/plain": [
       "<Figure size 432x288 with 1 Axes>"
      ]
     },
     "metadata": {
      "needs_background": "light"
     },
     "output_type": "display_data"
    }
   ],
   "source": [
    "learn.recorder.plot()"
   ]
  },
  {
   "cell_type": "code",
   "execution_count": 26,
   "metadata": {},
   "outputs": [],
   "source": [
    "learn.data.batch_size= 32\n"
   ]
  },
  {
   "cell_type": "code",
   "execution_count": null,
   "metadata": {},
   "outputs": [
    {
     "data": {
      "text/html": [
       "\n",
       "    <div>\n",
       "        <style>\n",
       "            /* Turns off some styling */\n",
       "            progress {\n",
       "                /* gets rid of default border in Firefox and Opera. */\n",
       "                border: none;\n",
       "                /* Needs to be in here for Safari polyfill so background images work as expected. */\n",
       "                background-size: auto;\n",
       "            }\n",
       "            .progress-bar-interrupted, .progress-bar-interrupted::-webkit-progress-bar {\n",
       "                background: #F44336;\n",
       "            }\n",
       "        </style>\n",
       "      <progress value='1' class='' max='2' style='width:300px; height:20px; vertical-align: middle;'></progress>\n",
       "      50.00% [1/2 27:24<27:24]\n",
       "    </div>\n",
       "    \n",
       "<table border=\"1\" class=\"dataframe\">\n",
       "  <thead>\n",
       "    <tr style=\"text-align: left;\">\n",
       "      <th>epoch</th>\n",
       "      <th>train_loss</th>\n",
       "      <th>valid_loss</th>\n",
       "      <th>time</th>\n",
       "    </tr>\n",
       "  </thead>\n",
       "  <tbody>\n",
       "    <tr>\n",
       "      <td>0</td>\n",
       "      <td>156558405147861975040.000000</td>\n",
       "      <td>81610906974289920.000000</td>\n",
       "      <td>27:24</td>\n",
       "    </tr>\n",
       "  </tbody>\n",
       "</table><p>\n",
       "\n",
       "    <div>\n",
       "        <style>\n",
       "            /* Turns off some styling */\n",
       "            progress {\n",
       "                /* gets rid of default border in Firefox and Opera. */\n",
       "                border: none;\n",
       "                /* Needs to be in here for Safari polyfill so background images work as expected. */\n",
       "                background-size: auto;\n",
       "            }\n",
       "            .progress-bar-interrupted, .progress-bar-interrupted::-webkit-progress-bar {\n",
       "                background: #F44336;\n",
       "            }\n",
       "        </style>\n",
       "      <progress value='1107' class='' max='1814' style='width:300px; height:20px; vertical-align: middle;'></progress>\n",
       "      61.03% [1107/1814 14:34<09:18 209800364032.0000]\n",
       "    </div>\n",
       "    "
      ],
      "text/plain": [
       "<IPython.core.display.HTML object>"
      ]
     },
     "metadata": {},
     "output_type": "display_data"
    }
   ],
   "source": [
    "lr = 4e-02\n",
    "learn.fit_one_cycle(2,lr )"
   ]
  },
  {
   "cell_type": "code",
   "execution_count": 45,
   "metadata": {},
   "outputs": [
    {
     "data": {
      "image/png": "[encoded data removed]",
      "text/plain": [
       "<Figure size 432x288 with 1 Axes>"
      ]
     },
     "metadata": {
      "needs_background": "light"
     },
     "output_type": "display_data"
    }
   ],
   "source": [
    "learn.recorder.plot_losses()"
   ]
  },
  {
   "cell_type": "code",
   "execution_count": 69,
   "metadata": {},
   "outputs": [],
   "source": [
    "al = [ np.mean(i.detach().cpu().numpy()) for i in learn.model.aleatoric]\n",
    "ep = [ np.mean(i.detach().cpu().numpy()) for i in learn.model.epistemic]"
   ]
  },
  {
   "cell_type": "code",
   "execution_count": 70,
   "metadata": {},
   "outputs": [
    {
     "data": {
      "text/plain": [
       "[<matplotlib.lines.Line2D at 0x7f9ec005f2e8>]"
      ]
     },
     "execution_count": 70,
     "metadata": {},
     "output_type": "execute_result"
    },
    {
     "data": {
      "image/png": "[encoded data removed]",
      "text/plain": [
       "<Figure size 432x288 with 1 Axes>"
      ]
     },
     "metadata": {
      "needs_background": "light"
     },
     "output_type": "display_data"
    }
   ],
   "source": [
    "plt.plot(ep)"
   ]
  },
  {
   "cell_type": "code",
   "execution_count": 72,
   "metadata": {},
   "outputs": [],
   "source": [
    "def heteroscedastic_loss(preds, target, log_var, br):\n",
    "    \"\"\"\n",
    "    As per Kendall and Gal (2017).\n",
    "    \"\"\"\n",
    "    return torch.mean(torch.sum(torch.exp(-log_var) * (target-preds)**2 + log_var), 0)"
   ]
  },
  {
   "cell_type": "code",
   "execution_count": 13,
   "metadata": {},
   "outputs": [],
   "source": [
    "class combined_model(nn.Module):\n",
    "    def __init__(self,arch, head, num_sim):\n",
    "        super().__init__()\n",
    "        self.output_mean = torch.nn.Linear(learn.model[1][-1].in_features,learn.model[1][-1].out_features)\n",
    "        self.output_lstd = torch.nn.Linear(learn.model[1][-1].in_features,learn.model[1][-1].out_features)\n",
    "        self.model =[arch,head[:-1]]\n",
    "        self.num_sim = num_sim\n",
    "        self.uncertainty_method = \"variance\"\n",
    "        self.aleatoric = []\n",
    "        self.epistemic = []\n",
    "        \n",
    "        if self.num_sim == 1:\n",
    "            # Change to logging\n",
    "            print(\"Epistemic not possible when num_sim = 1\")\n",
    "    \n",
    "    def forward(self, inp):\n",
    "        x = self.model[0](inp)\n",
    "        x = self.model[1](x)\n",
    "        x_mean = self.output_mean(x)\n",
    "        x_lstd = self.output_lstd(x)\n",
    "        return x_mean, x_lstd\n",
    "    \n",
    "    def get_preds(self, output_simulations, ignore_uncertainty=False):\n",
    "        \"\"\"\n",
    "        Should be the same for all subclasses except CMCD.\n",
    "        \"\"\"\n",
    "        if self.num_sim > 1:\n",
    "            mean, log_std = (torch.stack(o) for o in (zip(*output_simulations)))\n",
    "        elif self.num_sim == 1:\n",
    "            mean, log_std = output_simulations\n",
    "        else:\n",
    "            raise Exception(\"nah gammon\")\n",
    "        \n",
    "        # sample from logit space to allow for noise attenuation\n",
    "        u = self.sample_logit_space(mean, log_std)\n",
    "        \n",
    "        #log_p = F.log_softmax(u, dim=-1)\n",
    "    \n",
    "        \n",
    "        #if self.num_sim > 1:\n",
    "        #    log_p = torch.mean(log_p, dim=0)\n",
    "        \n",
    "        if self.num_sim > 1:\n",
    "            u_mean = torch.mean(u, dim=0)\n",
    "        else:\n",
    "            u_mean = u\n",
    "            \n",
    "        if ignore_uncertainty:\n",
    "            return log_p\n",
    "        \n",
    "        # determine uncertainty\n",
    "        epistemic = self.get_epistemic(u)\n",
    "        aleatoric = self.get_aleatoric(log_std)\n",
    "        \n",
    "        #return log_p, epistemic, aleatoric\n",
    "        return u_mean,epistemic, aleatoric\n",
    "    \n",
    "    def sample_logit_space(self, mean, log_std):\n",
    "        \"\"\"\n",
    "        Helper function. As per Kendal and Gal (2017).\n",
    "        \"\"\"\n",
    "        epsilon = tdist.Normal(torch.zeros_like(mean), torch.ones_like(log_std)).sample()\n",
    "        u = mean + epsilon * torch.exp(log_std)\n",
    "        return u\n",
    "        \n",
    "    def get_epistemic(self, u):\n",
    "        \"\"\"\n",
    "        Note we repeate softmax calc here becasue we want softmax, not log_softmax...\n",
    "        \n",
    "        As per Kendal and Gal (2017), we here take entropy of the softmax as uncertainty.\n",
    "        For the Bayesian extension, we parse the distribution through the softmax, take \n",
    "        the expectation, then, finally, calculate the entropy.\n",
    "        \"\"\"\n",
    "        if self.uncertainty_method == \"variance\":\n",
    "            if self.num_sim > 1:\n",
    "                return torch.var(u,dim = 0)\n",
    "            else:\n",
    "                return 0\n",
    "            \n",
    "        elif self.uncertainty_method == \"information-theoretic\":\n",
    "            p = F.softmax(u, dim=-1)\n",
    "            # expectation would be here if this were bayes.\n",
    "            return self.get_entropy(p)\n",
    "        \n",
    "    def get_aleatoric(self, lstd): \n",
    "        \"\"\"\n",
    "        basically just allows me to not duplicate code below... \n",
    "        See subclass for actual implementation.\n",
    "        \"\"\"\n",
    "        # alternative would be to output the variance corresponding to max p_i\n",
    "        \n",
    "        \n",
    "        return torch.mean(torch.square(torch.exp(lstd)), dim=-1)\n",
    "        \n",
    "    def get_entropy(self, P):\n",
    "        \"\"\"\n",
    "        @requires: shape of P to be batch_size X dim_out \n",
    "        @returns: vector of size = self.batch_size\n",
    "        \n",
    "        Helper function. A way in which uncertainty about a classification inference\n",
    "        may be estimated.\n",
    "        \"\"\"\n",
    "        return - torch.sum(P * torch.log(P), dim=-1)\n",
    "        "
   ]
  }
 ],
 "metadata": {
  "kernelspec": {
   "display_name": "Glaucoma",
   "language": "python",
   "name": "glaucoma"
  },
  "language_info": {
   "codemirror_mode": {
    "name": "ipython",
    "version": 3
   },
   "file_extension": ".py",
   "mimetype": "text/x-python",
   "name": "python",
   "nbconvert_exporter": "python",
   "pygments_lexer": "ipython3",
   "version": "3.7.9"
  }
 },
 "nbformat": 4,
 "nbformat_minor": 4
}