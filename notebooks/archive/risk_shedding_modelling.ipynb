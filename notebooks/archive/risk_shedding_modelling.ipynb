{
 "cells": [
  {
   "cell_type": "markdown",
   "metadata": {},
   "source": [
    "# Secondary Modelling : Res-net 50\n",
    "\n",
    "This file is part of the Glaucoma Phenotype ML Estimation project.\n",
    "\n",
    " Glaucoma Phenotype ML Estimation is free software: you can redistribute it and/or modify\n",
    "it under the terms of the GNU General Public License as published by\n",
    "the Free Software Foundation, either version 3 of the License, or\n",
    "(at your option) any later version.\n",
    "\n",
    "\n",
    "The Glaucoma Phenotype ML Estimation project is distributed in the hope that it will be useful,\n",
    "but WITHOUT ANY WARRANTY; without even the implied warranty of\n",
    "MERCHANTABILITY or FITNESS FOR A PARTICULAR PURPOSE.  See the\n",
    "GNU General Public License for more details.\n",
    "\n",
    "You should have received a copy of the GNU General Public License\n",
    "along with the Glaucoma Phenotype ML Estimation project.  If not, see <http://www.gnu.org/licenses/>.\n"
   ]
  },
  {
   "cell_type": "code",
   "execution_count": 1,
   "metadata": {},
   "outputs": [],
   "source": [
    "%matplotlib inline\n",
    "%load_ext autoreload\n",
    "%autoreload 2"
   ]
  },
  {
   "cell_type": "code",
   "execution_count": 2,
   "metadata": {},
   "outputs": [],
   "source": [
    "import pickle as pkl\n",
    "import os\n",
    "from pathlib import Path\n",
    "from multiprocessing import Pool, cpu_count\n",
    "import numpy as np\n",
    "import pandas as pd\n",
    "import zipfile\n",
    "#import imageio\n",
    "import matplotlib.pyplot as plt\n",
    "import seaborn as sns\n",
    "from fastai.vision import *\n",
    "from PIL import Image\n",
    "\n",
    "from fastai.vision.models import *\n",
    "from fastai.vision.learner import model_meta\n",
    "from fastai.callbacks import *"
   ]
  },
  {
   "cell_type": "code",
   "execution_count": 3,
   "metadata": {},
   "outputs": [],
   "source": [
    "import warnings\n",
    "\n",
    "warnings.filterwarnings(action='once')\n",
    "warnings.filterwarnings(action='ignore')\n"
   ]
  },
  {
   "cell_type": "code",
   "execution_count": 4,
   "metadata": {},
   "outputs": [],
   "source": [
    "from fastai.distributed import *\n"
   ]
  },
  {
   "cell_type": "code",
   "execution_count": 5,
   "metadata": {},
   "outputs": [],
   "source": [
    "WORKING_DIR = Path('/home/kaiah_steven_maxkelsen_com/glaucoma')\n",
    "#WORKING_DIR = Path('/home/jovyan/glaucoma/')\n",
    "DATA_DIR = WORKING_DIR / 'data'\n",
    "META_DIR = DATA_DIR / 'metadata'\n",
    "TRAIN_DIR = DATA_DIR / 'training'"
   ]
  },
  {
   "cell_type": "code",
   "execution_count": 6,
   "metadata": {},
   "outputs": [],
   "source": [
    "meta_df = pickle.load(open(DATA_DIR / \"meta_df_v5.pkl\",'rb'))"
   ]
  },
  {
   "cell_type": "code",
   "execution_count": 7,
   "metadata": {},
   "outputs": [],
   "source": [
    "#some Utils\n",
    "from fastai.torch_core import flatten_model\n",
    "from fastai.layers import CrossEntropyFlat\n",
    "\n",
    "\n",
    "def arch_summary(arch):\n",
    "    model = arch(False)\n",
    "    tot = 0\n",
    "    for i, l in enumerate(model.children()):\n",
    "        n_layers = len(flatten_model(l))\n",
    "        tot += n_layers\n",
    "        print(f'({i}) {l.__class__.__name__:<12}: {n_layers:<4}layers (total: {tot})')\n",
    "\n",
    "\n",
    "def get_groups(model, layer_groups):\n",
    "    group_indices = [len(g) for g in layer_groups]\n",
    "    curr_i = 0\n",
    "    group = []\n",
    "    for layer in model:\n",
    "        group_indices[curr_i] -= len(flatten_model(layer))\n",
    "        group.append(layer.__class__.__name__)\n",
    "        if group_indices[curr_i] == 0:\n",
    "            curr_i += 1\n",
    "            print(f'Group {curr_i}:', group)   \n",
    "            group = []"
   ]
  },
  {
   "cell_type": "code",
   "execution_count": 8,
   "metadata": {},
   "outputs": [],
   "source": [
    "def parse_files(path, key_string = ''):\n",
    "    files = []\n",
    "    for r,d,f in os.walk(path):\n",
    "        for file in f:\n",
    "            if key_string in file:\n",
    "                files.append(os.path.join(r,file))\n",
    "    return files"
   ]
  },
  {
   "cell_type": "code",
   "execution_count": 9,
   "metadata": {},
   "outputs": [],
   "source": [
    "# as we can see some images here are different size"
   ]
  },
  {
   "cell_type": "code",
   "execution_count": 10,
   "metadata": {},
   "outputs": [],
   "source": [
    "unzipped_files = parse_files(str(DATA_DIR / \"unzipped\"))"
   ]
  },
  {
   "cell_type": "code",
   "execution_count": 11,
   "metadata": {},
   "outputs": [],
   "source": [
    "# split up unzipped files\n",
    "unzipped_head =[]\n",
    "unzipped_tail =[]\n",
    "for file in unzipped_files:\n",
    "    h,t = os.path.split(file)\n",
    "    unzipped_head.append(h)\n",
    "    unzipped_tail.append(t)"
   ]
  },
  {
   "cell_type": "code",
   "execution_count": 13,
   "metadata": {},
   "outputs": [],
   "source": [
    "meta_df = pickle.load(open(DATA_DIR / \"meta_df_v5.pkl\",'rb'))"
   ]
  },
  {
   "cell_type": "markdown",
   "metadata": {},
   "source": [
    "## shedding \"risky\" files"
   ]
  },
  {
   "cell_type": "code",
   "execution_count": 31,
   "metadata": {},
   "outputs": [],
   "source": [
    "# pulling out \"clean\" files"
   ]
  },
  {
   "cell_type": "code",
   "execution_count": 15,
   "metadata": {},
   "outputs": [],
   "source": [
    "clean_files = []\n",
    "for file in meta_df[\"file_name\"].unique():\n",
    "    df = meta_df[meta_df[\"file_name\"] == file][\"grading\"].unique()\n",
    "    var = meta_df[meta_df[\"file_name\"] == file][\"grading\"]\n",
    "    if -1 in df:\n",
    "        continue\n",
    "    if len(var) > 1 and var.var() > 2:\n",
    "        continue\n",
    "    clean_files.append(file)\n",
    "    "
   ]
  },
  {
   "cell_type": "code",
   "execution_count": 19,
   "metadata": {},
   "outputs": [
    {
     "data": {
      "text/plain": [
       "69697"
      ]
     },
     "execution_count": 19,
     "metadata": {},
     "output_type": "execute_result"
    }
   ],
   "source": [
    "len(clean_files)"
   ]
  },
  {
   "cell_type": "code",
   "execution_count": 14,
   "metadata": {},
   "outputs": [],
   "source": [
    "CLEAN_DIR = DATA_DIR / \"train_clean\""
   ]
  },
  {
   "cell_type": "code",
   "execution_count": 21,
   "metadata": {},
   "outputs": [],
   "source": [
    "for rating in range(20):\n",
    "    os.mkdir(CLEAN_DIR /str(rating/2))\n",
    "   \n",
    "    "
   ]
  },
  {
   "cell_type": "code",
   "execution_count": 20,
   "metadata": {},
   "outputs": [],
   "source": [
    "cleaned = meta_df[meta_df[\"file_name\"].isin(clean_files)]"
   ]
  },
  {
   "cell_type": "code",
   "execution_count": null,
   "metadata": {},
   "outputs": [],
   "source": [
    "# run inference on \"bad images\""
   ]
  },
  {
   "cell_type": "code",
   "execution_count": 22,
   "metadata": {
    "collapsed": true,
    "jupyter": {
     "outputs_hidden": true
    }
   },
   "outputs": [
    {
     "name": "stdout",
     "output_type": "stream",
     "text": [
      "1252319_21015_0_0.jpg\n",
      "1357137_21015_0_0.jpg\n",
      "2484576_21015_0_0.jpg\n",
      "0.0   2699\n",
      "0.5   3919\n",
      "1200013_21015_0_0.jpg\n",
      "1591475_21015_0_0.jpg\n",
      "2512888_21015_0_0.jpg\n",
      "3457649_21015_0_0.jpg\n",
      "4781752_21015_0_0.jpg\n",
      "5442749_21015_0_0.jpg\n",
      "5465282_21015_0_0.jpg\n",
      "1.0   3559\n",
      "1.5   4118\n",
      "1355277_21015_0_0.jpg\n",
      "1961837_21015_0_0.jpg\n",
      "2064835_21015_0_0.jpg\n",
      "2386421_21015_0_0.jpg\n",
      "2641993_21015_0_0.jpg\n",
      "2768312_21015_0_0.jpg\n",
      "2859856_21015_0_0.jpg\n",
      "3473876_21015_0_0.jpg\n",
      "4090573_21015_0_0.jpg\n",
      "4102706_21015_0_0.jpg\n",
      "5348601_21015_0_0.jpg\n",
      "5454220_21015_0_0.jpg\n",
      "5671538_21015_0_0.jpg\n",
      "2.0   5013\n",
      "2.5   7448\n",
      "1080791_21015_0_0.jpg\n",
      "1132533_21015_0_0.jpg\n",
      "1219691_21015_0_0.jpg\n",
      "1324761_21015_0_0.jpg\n",
      "1489133_21015_0_0.jpg\n",
      "1578035_21015_0_0.jpg\n",
      "1592166_21015_0_0.jpg\n",
      "1597733_21015_0_0.jpg\n",
      "1652416_21015_0_0.jpg\n",
      "1686926_21015_0_0.jpg\n",
      "1715140_21015_0_0.jpg\n",
      "1732640_21015_0_0.jpg\n",
      "1989123_21015_0_0.jpg\n",
      "2039195_21015_0_0.jpg\n",
      "2125732_21015_0_0.jpg\n",
      "2128646_21015_0_0.jpg\n",
      "2139065_21015_0_0.jpg\n",
      "2270175_21015_0_0.jpg\n",
      "2318843_21015_0_0.jpg\n",
      "2332937_21015_0_0.jpg\n",
      "2504480_21015_0_0.jpg\n",
      "2526228_21015_0_0.jpg\n",
      "2582661_21015_0_0.jpg\n",
      "2701334_21015_0_0.jpg\n",
      "2776265_21015_0_0.jpg\n",
      "2973046_21015_0_0.jpg\n",
      "3047980_21015_0_0.jpg\n",
      "3312524_21015_0_0.jpg\n",
      "3336151_21015_0_0.jpg\n",
      "3573649_21015_0_0.jpg\n",
      "3581554_21015_0_0.jpg\n",
      "3604846_21015_0_0.jpg\n",
      "3658046_21015_0_0.jpg\n",
      "3737385_21015_0_0.jpg\n",
      "3854018_21015_0_0.jpg\n",
      "3968035_21015_0_0.jpg\n",
      "3999373_21015_0_0.jpg\n",
      "4151622_21015_0_0.jpg\n",
      "4160433_21015_0_0.jpg\n",
      "4215163_21015_0_0.jpg\n",
      "4302298_21015_0_0.jpg\n",
      "4352277_21015_0_0.jpg\n",
      "4370375_21015_0_0.jpg\n",
      "4404166_21015_0_0.jpg\n",
      "4459857_21015_0_0.jpg\n",
      "4495390_21015_0_0.jpg\n",
      "4505346_21015_0_0.jpg\n",
      "4545050_21015_0_0.jpg\n",
      "4590205_21015_0_0.jpg\n",
      "4604890_21015_0_0.jpg\n",
      "4806088_21015_0_0.jpg\n",
      "4874213_21015_0_0.jpg\n",
      "4948274_21015_0_0.jpg\n",
      "4984886_21015_0_0.jpg\n",
      "5167868_21015_0_0.jpg\n",
      "5171078_21015_0_0.jpg\n",
      "5177464_21015_0_0.jpg\n",
      "5237508_21015_0_0.jpg\n",
      "5241536_21015_0_0.jpg\n",
      "5277164_21015_0_0.jpg\n",
      "5314185_21015_0_0.jpg\n",
      "5341401_21015_0_0.jpg\n",
      "5356675_21015_0_0.jpg\n",
      "5431324_21015_0_0.jpg\n",
      "5488060_21015_0_0.jpg\n",
      "5602030_21015_0_0.jpg\n",
      "5610825_21015_0_0.jpg\n",
      "5674916_21015_0_0.jpg\n",
      "5717001_21015_0_0.jpg\n",
      "5734799_21015_0_0.jpg\n",
      "5736755_21015_0_0.jpg\n",
      "5784690_21015_0_0.jpg\n",
      "5841145_21015_0_0.jpg\n",
      "5855904_21015_0_0.jpg\n",
      "5905948_21015_0_0.jpg\n",
      "5930653_21015_0_0.jpg\n",
      "5986791_21015_0_0.jpg\n",
      "3.0   11669\n",
      "3.5   8568\n",
      "1131476_21015_0_0.jpg\n",
      "1197193_21015_0_0.jpg\n",
      "1299006_21015_0_0.jpg\n",
      "1305497_21015_0_0.jpg\n",
      "1403749_21015_0_0.jpg\n",
      "1524856_21015_0_0.jpg\n",
      "1659399_21015_0_0.jpg\n",
      "1920994_21015_0_0.jpg\n",
      "1933067_21015_0_0.jpg\n",
      "2096378_21015_0_0.jpg\n",
      "2116134_21015_0_0.jpg\n",
      "2128359_21015_0_0.jpg\n",
      "2184985_21015_0_0.jpg\n",
      "2536275_21015_0_0.jpg\n",
      "2557520_21015_0_0.jpg\n",
      "2617576_21015_0_0.jpg\n",
      "2658905_21015_0_0.jpg\n",
      "2668995_21015_0_0.jpg\n",
      "2814285_21015_0_0.jpg\n",
      "2845100_21015_0_0.jpg\n",
      "3364424_21015_0_0.jpg\n",
      "3433089_21015_0_0.jpg\n",
      "3472507_21015_0_0.jpg\n",
      "3575329_21015_0_0.jpg\n",
      "3721386_21015_0_0.jpg\n",
      "3762179_21015_0_0.jpg\n",
      "3791813_21015_0_0.jpg\n",
      "3821901_21015_0_0.jpg\n",
      "3928792_21015_0_0.jpg\n",
      "4062949_21015_0_0.jpg\n",
      "4232966_21015_0_0.jpg\n",
      "4263701_21015_0_0.jpg\n",
      "4447936_21015_0_0.jpg\n",
      "4477185_21015_0_0.jpg\n",
      "4520279_21015_0_0.jpg\n",
      "4725620_21015_0_0.jpg\n",
      "4847013_21015_0_0.jpg\n",
      "4861402_21015_0_0.jpg\n",
      "4996987_21015_0_0.jpg\n",
      "5120732_21015_0_0.jpg\n",
      "5596474_21015_0_0.jpg\n",
      "4.0   6939\n",
      "4.5   4515\n",
      "1062019_21015_0_0.jpg\n",
      "2895624_21015_0_0.jpg\n",
      "3362490_21015_0_0.jpg\n",
      "3397155_21015_0_0.jpg\n",
      "3717743_21015_0_0.jpg\n",
      "3884635_21015_0_0.jpg\n",
      "4019497_21015_0_0.jpg\n",
      "4064177_21015_0_0.jpg\n",
      "4228494_21015_0_0.jpg\n",
      "4712793_21015_0_0.jpg\n",
      "5095430_21015_0_0.jpg\n",
      "5099581_21015_0_0.jpg\n",
      "5155034_21015_0_0.jpg\n",
      "5306278_21015_0_0.jpg\n",
      "5424644_21015_0_0.jpg\n",
      "5443854_21015_0_0.jpg\n",
      "5483355_21015_0_0.jpg\n",
      "5496195_21015_0_0.jpg\n",
      "5588169_21015_0_0.jpg\n",
      "5597687_21015_0_0.jpg\n",
      "5875779_21015_0_0.jpg\n",
      "5900530_21015_0_0.jpg\n",
      "5902575_21015_0_0.jpg\n",
      "5.0   3608\n",
      "5.5   4051\n",
      "1024474_21015_0_0.jpg\n",
      "1113115_21015_0_0.jpg\n",
      "1205668_21015_0_0.jpg\n",
      "1529376_21015_0_0.jpg\n",
      "4048756_21015_0_0.jpg\n",
      "4443004_21015_0_0.jpg\n",
      "5200698_21015_0_0.jpg\n",
      "5545034_21015_0_0.jpg\n",
      "5985863_21015_0_0.jpg\n",
      "6.0   2440\n",
      "6.5   1888\n",
      "1553543_21015_0_0.jpg\n",
      "1590827_21015_0_0.jpg\n",
      "2466308_21015_0_0.jpg\n",
      "3222897_21015_0_0.jpg\n",
      "4083996_21015_0_0.jpg\n",
      "5435586_21015_0_0.jpg\n",
      "5868063_21015_0_0.jpg\n",
      "7.0   1534\n",
      "7.5   1327\n",
      "4439722_21015_0_0.jpg\n",
      "8.0   498\n",
      "8.5   250\n",
      "9.0   118\n",
      "9.5   52\n"
     ]
    }
   ],
   "source": [
    "for rating in range(20):\n",
    "    f_names = list(cleaned[cleaned['grading'] == rating/2]['file_name'])\n",
    "    for f in f_names:\n",
    "        try:\n",
    "            idx = unzipped_tail.index(f)\n",
    "        except:\n",
    "            print(f)\n",
    "        shutil.copy2(unzipped_files[idx],str(CLEAN_DIR / str(rating/2)))\n",
    "    print(rating/2,\" \" ,len(f_names))\n",
    "    "
   ]
  },
  {
   "cell_type": "code",
   "execution_count": 177,
   "metadata": {},
   "outputs": [],
   "source": [
    "test_imgs = (DATA_DIR /\"test\").ls()\n",
    "test_imgs.sort(key=lambda x: x.stem)\n",
    "data.add_test(test_imgs) \n",
    "learn.data = data"
   ]
  },
  {
   "cell_type": "code",
   "execution_count": 178,
   "metadata": {},
   "outputs": [
    {
     "data": {
      "text/plain": [
       "ImageDataBunch;\n",
       "\n",
       "Train: LabelList (60392 items)\n",
       "x: ImageList\n",
       "Image (3, 400, 520),Image (3, 400, 520),Image (3, 400, 520),Image (3, 400, 520),Image (3, 400, 520)\n",
       "y: FloatList\n",
       "7.0,7.0,7.0,7.0,7.0\n",
       "Path: /home/jovyan/glaucoma/data/training;\n",
       "\n",
       "Valid: LabelList (15098 items)\n",
       "x: ImageList\n",
       "Image (3, 400, 520),Image (3, 400, 520),Image (3, 400, 520),Image (3, 400, 520),Image (3, 400, 520)\n",
       "y: FloatList\n",
       "5.5,3.5,1.0,0.0,4.5\n",
       "Path: /home/jovyan/glaucoma/data/training;\n",
       "\n",
       "Test: LabelList (2000 items)\n",
       "x: ImageList\n",
       "Image (3, 400, 520),Image (3, 400, 520),Image (3, 400, 520),Image (3, 400, 520),Image (3, 400, 520)\n",
       "y: EmptyLabelList\n",
       ",,,,\n",
       "Path: /home/jovyan/glaucoma/data/training"
      ]
     },
     "execution_count": 178,
     "metadata": {},
     "output_type": "execute_result"
    }
   ],
   "source": [
    "data"
   ]
  },
  {
   "cell_type": "markdown",
   "metadata": {},
   "source": [
    "## Modelling:"
   ]
  },
  {
   "cell_type": "code",
   "execution_count": 15,
   "metadata": {},
   "outputs": [],
   "source": [
    "path_img = CLEAN_DIR\n"
   ]
  },
  {
   "cell_type": "code",
   "execution_count": 16,
   "metadata": {},
   "outputs": [
    {
     "data": {
      "text/plain": [
       "PosixPath('/home/kaiah_steven_maxkelsen_com/glaucoma/data/train_clean')"
      ]
     },
     "execution_count": 16,
     "metadata": {},
     "output_type": "execute_result"
    }
   ],
   "source": [
    "path_img"
   ]
  },
  {
   "cell_type": "code",
   "execution_count": 19,
   "metadata": {},
   "outputs": [],
   "source": [
    "src = ImageList.from_folder(str(path_img)).split_by_rand_pct(seed=42).label_from_func(lambda o: (o.parts if isinstance(o, Path) else o.split(os.path.sep))[-2],label_cls=FloatList)\n",
    "tfms = get_transforms(max_rotate= 10,flip_vert =False, max_lighting = 0.1,max_zoom =1) # or tfms=None if none are needed\n",
    "size=(800,1040) # size=(224,224) or (400,224)\n",
    "data = src.transform(tfms=tfms, size=size, resize_method=ResizeMethod.SQUISH).databunch(num_workers=4).normalize(imagenet_stats)"
   ]
  },
  {
   "cell_type": "code",
   "execution_count": 18,
   "metadata": {},
   "outputs": [],
   "source": [
    "#using smaller image size\n",
    "src = ImageList.from_folder(str(path_img)).split_by_rand_pct(seed=42).label_from_func(lambda o: (o.parts if isinstance(o, Path) else o.split(os.path.sep))[-2],label_cls=FloatList)\n",
    "tfms = get_transforms(max_lighting = 0.25) # or tfms=None if none are needed\n",
    "size=(400,520) # size=(224,224) or (400,224)\n",
    "data = src.transform(tfms=tfms, size=size, resize_method=ResizeMethod.SQUISH).databunch(num_workers=4).normalize(imagenet_stats)"
   ]
  },
  {
   "cell_type": "code",
   "execution_count": null,
   "metadata": {},
   "outputs": [],
   "source": [
    "data.show_batch(3, figsize=(10,10), hide_axis=False)\n"
   ]
  },
  {
   "cell_type": "code",
   "execution_count": 20,
   "metadata": {},
   "outputs": [],
   "source": [
    "# Running a basic image net\n",
    "learn = cnn_learner(data,models.resnet50, pretrained = True)"
   ]
  },
  {
   "cell_type": "code",
   "execution_count": 21,
   "metadata": {},
   "outputs": [],
   "source": [
    "class MSELossFlat(nn.MSELoss): \n",
    "#“Same as `nn.MSELoss`, but flattens input and target.”\n",
    "    def forward(self, input:Tensor, target:Tensor) -> Rank0Tensor:\n",
    "        return super().forward(input.view(-1), target.view(-1))"
   ]
  },
  {
   "cell_type": "code",
   "execution_count": 22,
   "metadata": {},
   "outputs": [],
   "source": [
    "#use both gpus\n",
    "learn.model = torch.nn.DataParallel(learn.model)"
   ]
  },
  {
   "cell_type": "code",
   "execution_count": 23,
   "metadata": {},
   "outputs": [],
   "source": [
    "learn.data.batch_size = 16"
   ]
  },
  {
   "cell_type": "code",
   "execution_count": 24,
   "metadata": {},
   "outputs": [],
   "source": [
    "class L1LossFlat(nn.L1Loss):\n",
    "#Mean Absolute Error Loss”\n",
    "    def forward(self, input:Tensor, target:Tensor) -> Rank0Tensor:\n",
    "        return super().forward(input.view(-1), target.view(-1))"
   ]
  },
  {
   "cell_type": "code",
   "execution_count": 25,
   "metadata": {},
   "outputs": [],
   "source": [
    "learn.loss = L1LossFlat\n",
    "learn.loss = MSELossFlat"
   ]
  },
  {
   "cell_type": "code",
   "execution_count": 26,
   "metadata": {},
   "outputs": [],
   "source": [
    "learn.metrics =[accuracy]"
   ]
  },
  {
   "cell_type": "code",
   "execution_count": 27,
   "metadata": {},
   "outputs": [],
   "source": [
    "#learn.unfreeze()"
   ]
  },
  {
   "cell_type": "code",
   "execution_count": 28,
   "metadata": {},
   "outputs": [
    {
     "data": {
      "text/html": [
       "\n",
       "    <div>\n",
       "        <style>\n",
       "            /* Turns off some styling */\n",
       "            progress {\n",
       "                /* gets rid of default border in Firefox and Opera. */\n",
       "                border: none;\n",
       "                /* Needs to be in here for Safari polyfill so background images work as expected. */\n",
       "                background-size: auto;\n",
       "            }\n",
       "            .progress-bar-interrupted, .progress-bar-interrupted::-webkit-progress-bar {\n",
       "                background: #F44336;\n",
       "            }\n",
       "        </style>\n",
       "      <progress value='0' class='' max='1' style='width:300px; height:20px; vertical-align: middle;'></progress>\n",
       "      0.00% [0/1 00:00<00:00]\n",
       "    </div>\n",
       "    \n",
       "<table border=\"1\" class=\"dataframe\">\n",
       "  <thead>\n",
       "    <tr style=\"text-align: left;\">\n",
       "      <th>epoch</th>\n",
       "      <th>train_loss</th>\n",
       "      <th>valid_loss</th>\n",
       "      <th>accuracy</th>\n",
       "      <th>time</th>\n",
       "    </tr>\n",
       "  </thead>\n",
       "  <tbody>\n",
       "  </tbody>\n",
       "</table><p>\n",
       "\n",
       "    <div>\n",
       "        <style>\n",
       "            /* Turns off some styling */\n",
       "            progress {\n",
       "                /* gets rid of default border in Firefox and Opera. */\n",
       "                border: none;\n",
       "                /* Needs to be in here for Safari polyfill so background images work as expected. */\n",
       "                background-size: auto;\n",
       "            }\n",
       "            .progress-bar-interrupted, .progress-bar-interrupted::-webkit-progress-bar {\n",
       "                background: #F44336;\n",
       "            }\n",
       "        </style>\n",
       "      <progress value='84' class='' max='3629' style='width:300px; height:20px; vertical-align: middle;'></progress>\n",
       "      2.31% [84/3629 01:35<1:07:06 34.8363]\n",
       "    </div>\n",
       "    "
      ],
      "text/plain": [
       "<IPython.core.display.HTML object>"
      ]
     },
     "metadata": {},
     "output_type": "display_data"
    },
    {
     "name": "stdout",
     "output_type": "stream",
     "text": [
      "LR Finder is complete, type {learner_name}.recorder.plot() to see the graph.\n"
     ]
    }
   ],
   "source": [
    "learn.lr_find()"
   ]
  },
  {
   "cell_type": "code",
   "execution_count": 29,
   "metadata": {},
   "outputs": [
    {
     "name": "stdout",
     "output_type": "stream",
     "text": [
      "Min numerical gradient: 3.98E-04\n",
      "Min loss divided by 10: 1.00E-02\n"
     ]
    },
    {
     "data": {
      "image/png": "[encoded data removed]",
      "text/plain": [
       "<Figure size 432x288 with 1 Axes>"
      ]
     },
     "metadata": {
      "needs_background": "light"
     },
     "output_type": "display_data"
    }
   ],
   "source": [
    "learn.recorder.plot(suggestion = True)"
   ]
  },
  {
   "cell_type": "markdown",
   "metadata": {},
   "source": [
    "## Training"
   ]
  },
  {
   "cell_type": "code",
   "execution_count": 30,
   "metadata": {},
   "outputs": [],
   "source": [
    "min_grad_lr = 5e-2"
   ]
  },
  {
   "cell_type": "code",
   "execution_count": null,
   "metadata": {},
   "outputs": [
    {
     "data": {
      "text/html": [
       "\n",
       "    <div>\n",
       "        <style>\n",
       "            /* Turns off some styling */\n",
       "            progress {\n",
       "                /* gets rid of default border in Firefox and Opera. */\n",
       "                border: none;\n",
       "                /* Needs to be in here for Safari polyfill so background images work as expected. */\n",
       "                background-size: auto;\n",
       "            }\n",
       "            .progress-bar-interrupted, .progress-bar-interrupted::-webkit-progress-bar {\n",
       "                background: #F44336;\n",
       "            }\n",
       "        </style>\n",
       "      <progress value='5' class='' max='10' style='width:300px; height:20px; vertical-align: middle;'></progress>\n",
       "      50.00% [5/10 5:41:21<5:41:21]\n",
       "    </div>\n",
       "    \n",
       "<table border=\"1\" class=\"dataframe\">\n",
       "  <thead>\n",
       "    <tr style=\"text-align: left;\">\n",
       "      <th>epoch</th>\n",
       "      <th>train_loss</th>\n",
       "      <th>valid_loss</th>\n",
       "      <th>accuracy</th>\n",
       "      <th>time</th>\n",
       "    </tr>\n",
       "  </thead>\n",
       "  <tbody>\n",
       "    <tr>\n",
       "      <td>0</td>\n",
       "      <td>2.736311</td>\n",
       "      <td>5.610568</td>\n",
       "      <td>0.034305</td>\n",
       "      <td>1:10:34</td>\n",
       "    </tr>\n",
       "    <tr>\n",
       "      <td>1</td>\n",
       "      <td>3.506159</td>\n",
       "      <td>224.272888</td>\n",
       "      <td>0.034305</td>\n",
       "      <td>1:08:36</td>\n",
       "    </tr>\n",
       "    <tr>\n",
       "      <td>2</td>\n",
       "      <td>3.462016</td>\n",
       "      <td>450001.625000</td>\n",
       "      <td>0.034305</td>\n",
       "      <td>1:07:37</td>\n",
       "    </tr>\n",
       "    <tr>\n",
       "      <td>3</td>\n",
       "      <td>3.672026</td>\n",
       "      <td>380.636108</td>\n",
       "      <td>0.034305</td>\n",
       "      <td>1:07:34</td>\n",
       "    </tr>\n",
       "    <tr>\n",
       "      <td>4</td>\n",
       "      <td>3.571846</td>\n",
       "      <td>18649.521484</td>\n",
       "      <td>0.034305</td>\n",
       "      <td>1:06:57</td>\n",
       "    </tr>\n",
       "  </tbody>\n",
       "</table><p>\n",
       "\n",
       "    <div>\n",
       "        <style>\n",
       "            /* Turns off some styling */\n",
       "            progress {\n",
       "                /* gets rid of default border in Firefox and Opera. */\n",
       "                border: none;\n",
       "                /* Needs to be in here for Safari polyfill so background images work as expected. */\n",
       "                background-size: auto;\n",
       "            }\n",
       "            .progress-bar-interrupted, .progress-bar-interrupted::-webkit-progress-bar {\n",
       "                background: #F44336;\n",
       "            }\n",
       "        </style>\n",
       "      <progress value='1455' class='' max='3629' style='width:300px; height:20px; vertical-align: middle;'></progress>\n",
       "      40.09% [1455/3629 24:03<35:57 3.4334]\n",
       "    </div>\n",
       "    "
      ],
      "text/plain": [
       "<IPython.core.display.HTML object>"
      ]
     },
     "metadata": {},
     "output_type": "display_data"
    },
    {
     "name": "stdout",
     "output_type": "stream",
     "text": [
      "Better model found at epoch 0 with valid_loss value: 5.610567569732666.\n"
     ]
    }
   ],
   "source": [
    "learn.fit_one_cycle(10,min_grad_lr,callbacks=[SaveModelCallback(learn,name = \"res50_clean_best_heat_1\")])"
   ]
  },
  {
   "cell_type": "code",
   "execution_count": null,
   "metadata": {},
   "outputs": [],
   "source": [
    "learn.save(\"res50_clean_heat_1_e10\")"
   ]
  },
  {
   "cell_type": "code",
   "execution_count": 1,
   "metadata": {},
   "outputs": [
    {
     "name": "stdout",
     "output_type": "stream",
     "text": [
      "done\n"
     ]
    }
   ],
   "source": [
    "print(\"done\")"
   ]
  },
  {
   "cell_type": "code",
   "execution_count": 2,
   "metadata": {},
   "outputs": [
    {
     "ename": "NameError",
     "evalue": "name 'learn' is not defined",
     "output_type": "error",
     "traceback": [
      "\u001b[0;31m---------------------------------------------------------------------------\u001b[0m",
      "\u001b[0;31mNameError\u001b[0m                                 Traceback (most recent call last)",
      "\u001b[0;32m<ipython-input-2-c3b657dcc9ae>\u001b[0m in \u001b[0;36m<module>\u001b[0;34m\u001b[0m\n\u001b[0;32m----> 1\u001b[0;31m \u001b[0mlearn\u001b[0m\u001b[0;34m.\u001b[0m\u001b[0mshow_results\u001b[0m\u001b[0;34m(\u001b[0m\u001b[0;34m)\u001b[0m\u001b[0;34m\u001b[0m\u001b[0;34m\u001b[0m\u001b[0m\n\u001b[0m",
      "\u001b[0;31mNameError\u001b[0m: name 'learn' is not defined"
     ]
    }
   ],
   "source": [
    "learn.show_results()"
   ]
  },
  {
   "cell_type": "code",
   "execution_count": 38,
   "metadata": {},
   "outputs": [],
   "source": [
    "learn.callback_fns =[partial(CSVLogger, append=True)]"
   ]
  },
  {
   "cell_type": "code",
   "execution_count": 40,
   "metadata": {},
   "outputs": [
    {
     "data": {
      "text/plain": [
       "[functools.partial(<class 'fastai.callbacks.csv_logger.CSVLogger'>, append=True)]"
      ]
     },
     "execution_count": 40,
     "metadata": {},
     "output_type": "execute_result"
    }
   ],
   "source": [
    "learn.callback_fns"
   ]
  },
  {
   "cell_type": "code",
   "execution_count": null,
   "metadata": {},
   "outputs": [],
   "source": [
    "learn.recorder.plot_losses()"
   ]
  },
  {
   "cell_type": "markdown",
   "metadata": {},
   "source": [
    "## Testing"
   ]
  },
  {
   "cell_type": "code",
   "execution_count": 29,
   "metadata": {},
   "outputs": [
    {
     "data": {
      "text/html": [],
      "text/plain": [
       "<IPython.core.display.HTML object>"
      ]
     },
     "metadata": {},
     "output_type": "display_data"
    }
   ],
   "source": [
    "preds = learn.get_preds()"
   ]
  },
  {
   "cell_type": "code",
   "execution_count": 30,
   "metadata": {},
   "outputs": [
    {
     "data": {
      "text/plain": [
       "tensor(2.3862)"
      ]
     },
     "execution_count": 30,
     "metadata": {},
     "output_type": "execute_result"
    }
   ],
   "source": [
    "root_mean_squared_error(preds[0],preds[1])"
   ]
  },
  {
   "cell_type": "code",
   "execution_count": 31,
   "metadata": {},
   "outputs": [
    {
     "data": {
      "text/plain": [
       "tensor(1.1477)"
      ]
     },
     "execution_count": 31,
     "metadata": {},
     "output_type": "execute_result"
    }
   ],
   "source": [
    "mean_absolute_error(*preds)"
   ]
  },
  {
   "cell_type": "code",
   "execution_count": 32,
   "metadata": {},
   "outputs": [
    {
     "data": {
      "text/plain": [
       "tensor(inf)"
      ]
     },
     "execution_count": 32,
     "metadata": {},
     "output_type": "execute_result"
    }
   ],
   "source": [
    "exp_rmspe(*preds)"
   ]
  },
  {
   "cell_type": "code",
   "execution_count": 33,
   "metadata": {},
   "outputs": [
    {
     "data": {
      "text/plain": [
       "tensor(5.6939)"
      ]
     },
     "execution_count": 33,
     "metadata": {},
     "output_type": "execute_result"
    }
   ],
   "source": [
    "mean_squared_error(preds[0],preds[1])"
   ]
  },
  {
   "cell_type": "code",
   "execution_count": 34,
   "metadata": {},
   "outputs": [],
   "source": [
    "from sklearn.metrics import accuracy_score\n",
    "from sklearn.metrics import confusion_matrix"
   ]
  },
  {
   "cell_type": "code",
   "execution_count": 35,
   "metadata": {},
   "outputs": [
    {
     "data": {
      "text/plain": [
       "tensor(-0.6718)"
      ]
     },
     "execution_count": 35,
     "metadata": {},
     "output_type": "execute_result"
    }
   ],
   "source": [
    "r2_score(*preds)"
   ]
  },
  {
   "cell_type": "markdown",
   "metadata": {},
   "source": [
    "### predictions"
   ]
  },
  {
   "cell_type": "code",
   "execution_count": 101,
   "metadata": {},
   "outputs": [
    {
     "data": {
      "text/plain": [
       "ImageDataBunch;\n",
       "\n",
       "Train: LabelList (31726 items)\n",
       "x: ImageList\n",
       "Image (3, 400, 520),Image (3, 400, 520),Image (3, 400, 520),Image (3, 400, 520),Image (3, 400, 520)\n",
       "y: FloatList\n",
       "1.0,1.0,1.0,1.0,1.0\n",
       "Path: /home/kaiah_steven_maxkelsen_com/glaucoma/data/train_jamie;\n",
       "\n",
       "Valid: LabelList (7931 items)\n",
       "x: ImageList\n",
       "Image (3, 400, 520),Image (3, 400, 520),Image (3, 400, 520),Image (3, 400, 520),Image (3, 400, 520)\n",
       "y: FloatList\n",
       "0.0,5.0,1.5,0.0,3.0\n",
       "Path: /home/kaiah_steven_maxkelsen_com/glaucoma/data/train_jamie;\n",
       "\n",
       "Test: None"
      ]
     },
     "execution_count": 101,
     "metadata": {},
     "output_type": "execute_result"
    }
   ],
   "source": [
    "data"
   ]
  },
  {
   "cell_type": "code",
   "execution_count": 85,
   "metadata": {},
   "outputs": [
    {
     "data": {
      "image/png": "[encoded data removed]",
      "text/plain": [
       "<Figure size 432x288 with 1 Axes>"
      ]
     },
     "metadata": {
      "needs_background": "light"
     },
     "output_type": "display_data"
    }
   ],
   "source": [
    "learn_jamie.recorder.plot_losses()"
   ]
  },
  {
   "cell_type": "code",
   "execution_count": 121,
   "metadata": {},
   "outputs": [
    {
     "data": {
      "text/html": [],
      "text/plain": [
       "<IPython.core.display.HTML object>"
      ]
     },
     "metadata": {},
     "output_type": "display_data"
    }
   ],
   "source": [
    "preds =learn_jamie.get_preds()"
   ]
  },
  {
   "cell_type": "code",
   "execution_count": 122,
   "metadata": {},
   "outputs": [
    {
     "data": {
      "text/plain": [
       "tensor(1.1662)"
      ]
     },
     "execution_count": 122,
     "metadata": {},
     "output_type": "execute_result"
    }
   ],
   "source": [
    "mean_squared_error(preds[0],preds[1])"
   ]
  },
  {
   "cell_type": "code",
   "execution_count": 123,
   "metadata": {},
   "outputs": [
    {
     "data": {
      "text/plain": [
       "tensor(1.0799)"
      ]
     },
     "execution_count": 123,
     "metadata": {},
     "output_type": "execute_result"
    }
   ],
   "source": [
    "root_mean_squared_error(preds[0],preds[1])"
   ]
  },
  {
   "cell_type": "code",
   "execution_count": 124,
   "metadata": {},
   "outputs": [
    {
     "data": {
      "text/plain": [
       "tensor(0.7763)"
      ]
     },
     "execution_count": 124,
     "metadata": {},
     "output_type": "execute_result"
    }
   ],
   "source": [
    "mean_absolute_error(*preds)"
   ]
  },
  {
   "cell_type": "code",
   "execution_count": 125,
   "metadata": {},
   "outputs": [
    {
     "data": {
      "text/plain": [
       "tensor(7.4708)"
      ]
     },
     "execution_count": 125,
     "metadata": {},
     "output_type": "execute_result"
    }
   ],
   "source": [
    "exp_rmspe(*preds)"
   ]
  },
  {
   "cell_type": "code",
   "execution_count": 111,
   "metadata": {},
   "outputs": [],
   "source": [
    "from sklearn.metrics import accuracy_score\n",
    "from sklearn.metrics import plot_confusion_matrix\n",
    "from sklearn.metrics import confusion_matrix"
   ]
  },
  {
   "cell_type": "code",
   "execution_count": 126,
   "metadata": {},
   "outputs": [
    {
     "data": {
      "text/plain": [
       "tensor(0.6487)"
      ]
     },
     "execution_count": 126,
     "metadata": {},
     "output_type": "execute_result"
    }
   ],
   "source": [
    "r2_score(*preds)"
   ]
  },
  {
   "cell_type": "markdown",
   "metadata": {},
   "source": [
    "## memory management"
   ]
  },
  {
   "cell_type": "code",
   "execution_count": 41,
   "metadata": {},
   "outputs": [],
   "source": [
    "torch.cuda.empty_cache()"
   ]
  },
  {
   "cell_type": "code",
   "execution_count": 40,
   "metadata": {},
   "outputs": [
    {
     "name": "stdout",
     "output_type": "stream",
     "text": [
      "this Learner object self-destroyed - it still exists, but no longer usable\n"
     ]
    }
   ],
   "source": [
    "learn.destroy()"
   ]
  },
  {
   "cell_type": "code",
   "execution_count": 48,
   "metadata": {},
   "outputs": [],
   "source": [
    "## Dropout Code dast ai"
   ]
  },
  {
   "cell_type": "code",
   "execution_count": null,
   "metadata": {},
   "outputs": [],
   "source": [
    "class CustomDropout(nn.Module):\n",
    "    \"\"\"Custom Dropout module to be used as a baseline for MC Dropout\"\"\"\n",
    "\n",
    "    def __init__(self, p:float, activate=True):\n",
    "        super().__init__()\n",
    "        self.activate = activate\n",
    "        self.p = p\n",
    "\n",
    "    def forward(self, x):\n",
    "        return nn.functional.dropout(x, self.p, training=self.training or self.activate)\n",
    "\n",
    "    def extra_repr(self):\n",
    "        return f\"p={self.p}, activate={self.activate}\"\n",
    "\n",
    "\n",
    "def switch_custom_dropout(m, activate:bool=True, verbose:bool=False):\n",
    "    \"\"\"Turn all Custom Dropouts training mode to true or false according to the variable activate\"\"\"\n",
    "    for c in m.children():\n",
    "        if isinstance(c, CustomDropout):\n",
    "            print(f\"Current active : {c.activate}\")\n",
    "            print(f\"Switching to : {activate}\")\n",
    "            c.activate = activate\n",
    "        else:\n",
    "            switch_custom_dropout(c, activate=activate)\n",
    "\n",
    "def convert_layers(model:nn.Module, original:nn.Module, replacement:nn.Module, get_args:Callable=None,\n",
    " additional_args:dict={}):\n",
    "    \"\"\"Convert modules of type \"original\" to \"replacement\" inside the model\n",
    "    \n",
    "    get_args : a function to use on the original module to eventually get its arguements to pass to the new module\n",
    "    additional_args : a dictionary to add more args to the new module\n",
    "    \"\"\"\n",
    "    for child_name, child in model.named_children():\n",
    "\n",
    "        if isinstance(child, original):\n",
    "            # First we grab args from the child\n",
    "            if get_args:\n",
    "                original_args = get_args(child)\n",
    "            else:\n",
    "                original_args = {}\n",
    "\n",
    "            # If we want to provide additional args\n",
    "            if additional_args:\n",
    "                args = {**original_args, **additional_args}\n",
    "            else:\n",
    "                args = original_args\n",
    "\n",
    "            new_layer = replacement(**args)\n",
    "            setattr(model, child_name, new_layer)\n",
    "        else:\n",
    "            convert_layers(child, original, replacement,\n",
    "                           get_args, additional_args)"
   ]
  }
 ],
 "metadata": {
  "kernelspec": {
   "display_name": "Glaucoma",
   "language": "python",
   "name": "glaucoma"
  },
  "language_info": {
   "codemirror_mode": {
    "name": "ipython",
    "version": 3
   },
   "file_extension": ".py",
   "mimetype": "text/x-python",
   "name": "python",
   "nbconvert_exporter": "python",
   "pygments_lexer": "ipython3",
   "version": "3.7.9"
  }
 },
 "nbformat": 4,
 "nbformat_minor": 4
}
